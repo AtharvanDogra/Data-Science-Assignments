{
 "cells": [
  {
   "cell_type": "code",
   "execution_count": 1,
   "id": "ea476672",
   "metadata": {
    "_cell_guid": "b1076dfc-b9ad-4769-8c92-a6c4dae69d19",
    "_uuid": "8f2839f25d086af736a60e9eeb907d3b93b6e0e5",
    "execution": {
     "iopub.execute_input": "2022-02-28T17:23:45.849702Z",
     "iopub.status.busy": "2022-02-28T17:23:45.847928Z",
     "iopub.status.idle": "2022-02-28T17:23:45.868578Z",
     "shell.execute_reply": "2022-02-28T17:23:45.869126Z",
     "shell.execute_reply.started": "2022-02-28T17:01:36.036127Z"
    },
    "papermill": {
     "duration": 0.055423,
     "end_time": "2022-02-28T17:23:45.869455",
     "exception": false,
     "start_time": "2022-02-28T17:23:45.814032",
     "status": "completed"
    },
    "tags": []
   },
   "outputs": [
    {
     "name": "stdout",
     "output_type": "stream",
     "text": [
      "/kaggle/input/advanceregression/sample_submission.csv\n",
      "/kaggle/input/advanceregression/data_description.txt\n",
      "/kaggle/input/advanceregression/train.csv\n",
      "/kaggle/input/advanceregression/test.csv\n",
      "/kaggle/input/house-prices-data/train.csv\n",
      "/kaggle/input/house-prices-data/test.csv\n"
     ]
    }
   ],
   "source": [
    "# This Python 3 environment comes with many helpful analytics libraries installed\n",
    "# It is defined by the kaggle/python Docker image: https://github.com/kaggle/docker-python\n",
    "# For example, here's several helpful packages to load\n",
    "\n",
    "import numpy as np # linear algebra\n",
    "import pandas as pd # data processing, CSV file I/O (e.g. pd.read_csv)\n",
    "\n",
    "# Input data files are available in the read-only \"../input/\" directory\n",
    "# For example, running this (by clicking run or pressing Shift+Enter) will list all files under the input directory\n",
    "\n",
    "import os\n",
    "for dirname, _, filenames in os.walk('/kaggle/input'):\n",
    "    for filename in filenames:\n",
    "        print(os.path.join(dirname, filename))\n",
    "\n",
    "# You can write up to 20GB to the current directory (/kaggle/working/) that gets preserved as output when you create a version using \"Save & Run All\" \n",
    "# You can also write temporary files to /kaggle/temp/, but they won't be saved outside of the current session"
   ]
  },
  {
   "cell_type": "code",
   "execution_count": 2,
   "id": "d2aa7471",
   "metadata": {
    "execution": {
     "iopub.execute_input": "2022-02-28T17:23:45.956779Z",
     "iopub.status.busy": "2022-02-28T17:23:45.955997Z",
     "iopub.status.idle": "2022-02-28T17:23:47.012276Z",
     "shell.execute_reply": "2022-02-28T17:23:47.011775Z",
     "shell.execute_reply.started": "2022-02-28T17:02:46.725859Z"
    },
    "papermill": {
     "duration": 1.112063,
     "end_time": "2022-02-28T17:23:47.012420",
     "exception": false,
     "start_time": "2022-02-28T17:23:45.900357",
     "status": "completed"
    },
    "tags": []
   },
   "outputs": [
    {
     "name": "stdout",
     "output_type": "stream",
     "text": [
      "Traceback (most recent call last):\r\n",
      "  File \"/opt/conda/bin/kaggle\", line 5, in <module>\r\n",
      "    from kaggle.cli import main\r\n",
      "  File \"/opt/conda/lib/python3.7/site-packages/kaggle/__init__.py\", line 23, in <module>\r\n",
      "    api.authenticate()\r\n",
      "  File \"/opt/conda/lib/python3.7/site-packages/kaggle/api/kaggle_api_extended.py\", line 166, in authenticate\r\n",
      "    self.config_file, self.config_dir))\r\n",
      "OSError: Could not find kaggle.json. Make sure it's located in /root/.kaggle. Or use the environment method.\r\n"
     ]
    }
   ],
   "source": [
    "!kaggle competitions download -c house-prices-advanced-regression-techniques"
   ]
  },
  {
   "cell_type": "markdown",
   "id": "05410afa",
   "metadata": {
    "papermill": {
     "duration": 0.030697,
     "end_time": "2022-02-28T17:23:47.075626",
     "exception": false,
     "start_time": "2022-02-28T17:23:47.044929",
     "status": "completed"
    },
    "tags": []
   },
   "source": [
    "Importing the libraries"
   ]
  },
  {
   "cell_type": "code",
   "execution_count": 3,
   "id": "f7cfde17",
   "metadata": {
    "execution": {
     "iopub.execute_input": "2022-02-28T17:23:47.140042Z",
     "iopub.status.busy": "2022-02-28T17:23:47.139398Z",
     "iopub.status.idle": "2022-02-28T17:23:50.999982Z",
     "shell.execute_reply": "2022-02-28T17:23:50.999407Z",
     "shell.execute_reply.started": "2022-02-28T17:15:08.878770Z"
    },
    "papermill": {
     "duration": 3.894462,
     "end_time": "2022-02-28T17:23:51.000109",
     "exception": false,
     "start_time": "2022-02-28T17:23:47.105647",
     "status": "completed"
    },
    "tags": []
   },
   "outputs": [],
   "source": [
    "import cudf as cd\n",
    "import cupy as cp\n",
    "import cuml as cm\n",
    "import pandas as pd\n",
    "import sklearn\n",
    "import numpy as np\n",
    "df = pd.read_csv('../input/house-prices-data/train.csv')\n",
    "test = pd.read_csv('../input/house-prices-data/test.csv')"
   ]
  },
  {
   "cell_type": "markdown",
   "id": "cf1eeffe",
   "metadata": {
    "papermill": {
     "duration": 0.028304,
     "end_time": "2022-02-28T17:23:51.058757",
     "exception": false,
     "start_time": "2022-02-28T17:23:51.030453",
     "status": "completed"
    },
    "tags": []
   },
   "source": [
    "Preparing the test dataset"
   ]
  },
  {
   "cell_type": "code",
   "execution_count": 4,
   "id": "29d6a39e",
   "metadata": {
    "execution": {
     "iopub.execute_input": "2022-02-28T17:23:51.119553Z",
     "iopub.status.busy": "2022-02-28T17:23:51.119001Z",
     "iopub.status.idle": "2022-02-28T17:23:51.161547Z",
     "shell.execute_reply": "2022-02-28T17:23:51.161973Z",
     "shell.execute_reply.started": "2022-02-28T17:17:20.300964Z"
    },
    "papermill": {
     "duration": 0.075079,
     "end_time": "2022-02-28T17:23:51.162109",
     "exception": false,
     "start_time": "2022-02-28T17:23:51.087030",
     "status": "completed"
    },
    "tags": []
   },
   "outputs": [
    {
     "data": {
      "text/html": [
       "<div>\n",
       "<style scoped>\n",
       "    .dataframe tbody tr th:only-of-type {\n",
       "        vertical-align: middle;\n",
       "    }\n",
       "\n",
       "    .dataframe tbody tr th {\n",
       "        vertical-align: top;\n",
       "    }\n",
       "\n",
       "    .dataframe thead th {\n",
       "        text-align: right;\n",
       "    }\n",
       "</style>\n",
       "<table border=\"1\" class=\"dataframe\">\n",
       "  <thead>\n",
       "    <tr style=\"text-align: right;\">\n",
       "      <th></th>\n",
       "      <th>Id</th>\n",
       "      <th>MSSubClass</th>\n",
       "      <th>MSZoning</th>\n",
       "      <th>LotFrontage</th>\n",
       "      <th>LotArea</th>\n",
       "      <th>Street</th>\n",
       "      <th>Alley</th>\n",
       "      <th>LotShape</th>\n",
       "      <th>LandContour</th>\n",
       "      <th>Utilities</th>\n",
       "      <th>...</th>\n",
       "      <th>PoolArea</th>\n",
       "      <th>PoolQC</th>\n",
       "      <th>Fence</th>\n",
       "      <th>MiscFeature</th>\n",
       "      <th>MiscVal</th>\n",
       "      <th>MoSold</th>\n",
       "      <th>YrSold</th>\n",
       "      <th>SaleType</th>\n",
       "      <th>SaleCondition</th>\n",
       "      <th>SalePrice</th>\n",
       "    </tr>\n",
       "  </thead>\n",
       "  <tbody>\n",
       "    <tr>\n",
       "      <th>0</th>\n",
       "      <td>1461</td>\n",
       "      <td>20</td>\n",
       "      <td>RH</td>\n",
       "      <td>80.0</td>\n",
       "      <td>11622</td>\n",
       "      <td>Pave</td>\n",
       "      <td>NaN</td>\n",
       "      <td>Reg</td>\n",
       "      <td>Lvl</td>\n",
       "      <td>AllPub</td>\n",
       "      <td>...</td>\n",
       "      <td>0</td>\n",
       "      <td>NaN</td>\n",
       "      <td>MnPrv</td>\n",
       "      <td>NaN</td>\n",
       "      <td>0</td>\n",
       "      <td>6</td>\n",
       "      <td>2010</td>\n",
       "      <td>WD</td>\n",
       "      <td>Normal</td>\n",
       "      <td>169277.052498</td>\n",
       "    </tr>\n",
       "    <tr>\n",
       "      <th>1</th>\n",
       "      <td>1462</td>\n",
       "      <td>20</td>\n",
       "      <td>RL</td>\n",
       "      <td>81.0</td>\n",
       "      <td>14267</td>\n",
       "      <td>Pave</td>\n",
       "      <td>NaN</td>\n",
       "      <td>IR1</td>\n",
       "      <td>Lvl</td>\n",
       "      <td>AllPub</td>\n",
       "      <td>...</td>\n",
       "      <td>0</td>\n",
       "      <td>NaN</td>\n",
       "      <td>NaN</td>\n",
       "      <td>Gar2</td>\n",
       "      <td>12500</td>\n",
       "      <td>6</td>\n",
       "      <td>2010</td>\n",
       "      <td>WD</td>\n",
       "      <td>Normal</td>\n",
       "      <td>187758.393989</td>\n",
       "    </tr>\n",
       "    <tr>\n",
       "      <th>2</th>\n",
       "      <td>1463</td>\n",
       "      <td>60</td>\n",
       "      <td>RL</td>\n",
       "      <td>74.0</td>\n",
       "      <td>13830</td>\n",
       "      <td>Pave</td>\n",
       "      <td>NaN</td>\n",
       "      <td>IR1</td>\n",
       "      <td>Lvl</td>\n",
       "      <td>AllPub</td>\n",
       "      <td>...</td>\n",
       "      <td>0</td>\n",
       "      <td>NaN</td>\n",
       "      <td>MnPrv</td>\n",
       "      <td>NaN</td>\n",
       "      <td>0</td>\n",
       "      <td>3</td>\n",
       "      <td>2010</td>\n",
       "      <td>WD</td>\n",
       "      <td>Normal</td>\n",
       "      <td>183583.683570</td>\n",
       "    </tr>\n",
       "    <tr>\n",
       "      <th>3</th>\n",
       "      <td>1464</td>\n",
       "      <td>60</td>\n",
       "      <td>RL</td>\n",
       "      <td>78.0</td>\n",
       "      <td>9978</td>\n",
       "      <td>Pave</td>\n",
       "      <td>NaN</td>\n",
       "      <td>IR1</td>\n",
       "      <td>Lvl</td>\n",
       "      <td>AllPub</td>\n",
       "      <td>...</td>\n",
       "      <td>0</td>\n",
       "      <td>NaN</td>\n",
       "      <td>NaN</td>\n",
       "      <td>NaN</td>\n",
       "      <td>0</td>\n",
       "      <td>6</td>\n",
       "      <td>2010</td>\n",
       "      <td>WD</td>\n",
       "      <td>Normal</td>\n",
       "      <td>179317.477511</td>\n",
       "    </tr>\n",
       "    <tr>\n",
       "      <th>4</th>\n",
       "      <td>1465</td>\n",
       "      <td>120</td>\n",
       "      <td>RL</td>\n",
       "      <td>43.0</td>\n",
       "      <td>5005</td>\n",
       "      <td>Pave</td>\n",
       "      <td>NaN</td>\n",
       "      <td>IR1</td>\n",
       "      <td>HLS</td>\n",
       "      <td>AllPub</td>\n",
       "      <td>...</td>\n",
       "      <td>0</td>\n",
       "      <td>NaN</td>\n",
       "      <td>NaN</td>\n",
       "      <td>NaN</td>\n",
       "      <td>0</td>\n",
       "      <td>1</td>\n",
       "      <td>2010</td>\n",
       "      <td>WD</td>\n",
       "      <td>Normal</td>\n",
       "      <td>150730.079977</td>\n",
       "    </tr>\n",
       "    <tr>\n",
       "      <th>...</th>\n",
       "      <td>...</td>\n",
       "      <td>...</td>\n",
       "      <td>...</td>\n",
       "      <td>...</td>\n",
       "      <td>...</td>\n",
       "      <td>...</td>\n",
       "      <td>...</td>\n",
       "      <td>...</td>\n",
       "      <td>...</td>\n",
       "      <td>...</td>\n",
       "      <td>...</td>\n",
       "      <td>...</td>\n",
       "      <td>...</td>\n",
       "      <td>...</td>\n",
       "      <td>...</td>\n",
       "      <td>...</td>\n",
       "      <td>...</td>\n",
       "      <td>...</td>\n",
       "      <td>...</td>\n",
       "      <td>...</td>\n",
       "      <td>...</td>\n",
       "    </tr>\n",
       "    <tr>\n",
       "      <th>1454</th>\n",
       "      <td>2915</td>\n",
       "      <td>160</td>\n",
       "      <td>RM</td>\n",
       "      <td>21.0</td>\n",
       "      <td>1936</td>\n",
       "      <td>Pave</td>\n",
       "      <td>NaN</td>\n",
       "      <td>Reg</td>\n",
       "      <td>Lvl</td>\n",
       "      <td>AllPub</td>\n",
       "      <td>...</td>\n",
       "      <td>0</td>\n",
       "      <td>NaN</td>\n",
       "      <td>NaN</td>\n",
       "      <td>NaN</td>\n",
       "      <td>0</td>\n",
       "      <td>6</td>\n",
       "      <td>2006</td>\n",
       "      <td>WD</td>\n",
       "      <td>Normal</td>\n",
       "      <td>167081.220949</td>\n",
       "    </tr>\n",
       "    <tr>\n",
       "      <th>1455</th>\n",
       "      <td>2916</td>\n",
       "      <td>160</td>\n",
       "      <td>RM</td>\n",
       "      <td>21.0</td>\n",
       "      <td>1894</td>\n",
       "      <td>Pave</td>\n",
       "      <td>NaN</td>\n",
       "      <td>Reg</td>\n",
       "      <td>Lvl</td>\n",
       "      <td>AllPub</td>\n",
       "      <td>...</td>\n",
       "      <td>0</td>\n",
       "      <td>NaN</td>\n",
       "      <td>NaN</td>\n",
       "      <td>NaN</td>\n",
       "      <td>0</td>\n",
       "      <td>4</td>\n",
       "      <td>2006</td>\n",
       "      <td>WD</td>\n",
       "      <td>Abnorml</td>\n",
       "      <td>164788.778231</td>\n",
       "    </tr>\n",
       "    <tr>\n",
       "      <th>1456</th>\n",
       "      <td>2917</td>\n",
       "      <td>20</td>\n",
       "      <td>RL</td>\n",
       "      <td>160.0</td>\n",
       "      <td>20000</td>\n",
       "      <td>Pave</td>\n",
       "      <td>NaN</td>\n",
       "      <td>Reg</td>\n",
       "      <td>Lvl</td>\n",
       "      <td>AllPub</td>\n",
       "      <td>...</td>\n",
       "      <td>0</td>\n",
       "      <td>NaN</td>\n",
       "      <td>NaN</td>\n",
       "      <td>NaN</td>\n",
       "      <td>0</td>\n",
       "      <td>9</td>\n",
       "      <td>2006</td>\n",
       "      <td>WD</td>\n",
       "      <td>Abnorml</td>\n",
       "      <td>219222.423400</td>\n",
       "    </tr>\n",
       "    <tr>\n",
       "      <th>1457</th>\n",
       "      <td>2918</td>\n",
       "      <td>85</td>\n",
       "      <td>RL</td>\n",
       "      <td>62.0</td>\n",
       "      <td>10441</td>\n",
       "      <td>Pave</td>\n",
       "      <td>NaN</td>\n",
       "      <td>Reg</td>\n",
       "      <td>Lvl</td>\n",
       "      <td>AllPub</td>\n",
       "      <td>...</td>\n",
       "      <td>0</td>\n",
       "      <td>NaN</td>\n",
       "      <td>MnPrv</td>\n",
       "      <td>Shed</td>\n",
       "      <td>700</td>\n",
       "      <td>7</td>\n",
       "      <td>2006</td>\n",
       "      <td>WD</td>\n",
       "      <td>Normal</td>\n",
       "      <td>184924.279659</td>\n",
       "    </tr>\n",
       "    <tr>\n",
       "      <th>1458</th>\n",
       "      <td>2919</td>\n",
       "      <td>60</td>\n",
       "      <td>RL</td>\n",
       "      <td>74.0</td>\n",
       "      <td>9627</td>\n",
       "      <td>Pave</td>\n",
       "      <td>NaN</td>\n",
       "      <td>Reg</td>\n",
       "      <td>Lvl</td>\n",
       "      <td>AllPub</td>\n",
       "      <td>...</td>\n",
       "      <td>0</td>\n",
       "      <td>NaN</td>\n",
       "      <td>NaN</td>\n",
       "      <td>NaN</td>\n",
       "      <td>0</td>\n",
       "      <td>11</td>\n",
       "      <td>2006</td>\n",
       "      <td>WD</td>\n",
       "      <td>Normal</td>\n",
       "      <td>187741.866657</td>\n",
       "    </tr>\n",
       "  </tbody>\n",
       "</table>\n",
       "<p>1459 rows × 81 columns</p>\n",
       "</div>"
      ],
      "text/plain": [
       "        Id  MSSubClass MSZoning  LotFrontage  LotArea Street Alley LotShape  \\\n",
       "0     1461          20       RH         80.0    11622   Pave   NaN      Reg   \n",
       "1     1462          20       RL         81.0    14267   Pave   NaN      IR1   \n",
       "2     1463          60       RL         74.0    13830   Pave   NaN      IR1   \n",
       "3     1464          60       RL         78.0     9978   Pave   NaN      IR1   \n",
       "4     1465         120       RL         43.0     5005   Pave   NaN      IR1   \n",
       "...    ...         ...      ...          ...      ...    ...   ...      ...   \n",
       "1454  2915         160       RM         21.0     1936   Pave   NaN      Reg   \n",
       "1455  2916         160       RM         21.0     1894   Pave   NaN      Reg   \n",
       "1456  2917          20       RL        160.0    20000   Pave   NaN      Reg   \n",
       "1457  2918          85       RL         62.0    10441   Pave   NaN      Reg   \n",
       "1458  2919          60       RL         74.0     9627   Pave   NaN      Reg   \n",
       "\n",
       "     LandContour Utilities  ... PoolArea PoolQC  Fence MiscFeature MiscVal  \\\n",
       "0            Lvl    AllPub  ...        0    NaN  MnPrv         NaN       0   \n",
       "1            Lvl    AllPub  ...        0    NaN    NaN        Gar2   12500   \n",
       "2            Lvl    AllPub  ...        0    NaN  MnPrv         NaN       0   \n",
       "3            Lvl    AllPub  ...        0    NaN    NaN         NaN       0   \n",
       "4            HLS    AllPub  ...        0    NaN    NaN         NaN       0   \n",
       "...          ...       ...  ...      ...    ...    ...         ...     ...   \n",
       "1454         Lvl    AllPub  ...        0    NaN    NaN         NaN       0   \n",
       "1455         Lvl    AllPub  ...        0    NaN    NaN         NaN       0   \n",
       "1456         Lvl    AllPub  ...        0    NaN    NaN         NaN       0   \n",
       "1457         Lvl    AllPub  ...        0    NaN  MnPrv        Shed     700   \n",
       "1458         Lvl    AllPub  ...        0    NaN    NaN         NaN       0   \n",
       "\n",
       "     MoSold YrSold  SaleType  SaleCondition      SalePrice  \n",
       "0         6   2010        WD         Normal  169277.052498  \n",
       "1         6   2010        WD         Normal  187758.393989  \n",
       "2         3   2010        WD         Normal  183583.683570  \n",
       "3         6   2010        WD         Normal  179317.477511  \n",
       "4         1   2010        WD         Normal  150730.079977  \n",
       "...     ...    ...       ...            ...            ...  \n",
       "1454      6   2006        WD         Normal  167081.220949  \n",
       "1455      4   2006        WD        Abnorml  164788.778231  \n",
       "1456      9   2006        WD        Abnorml  219222.423400  \n",
       "1457      7   2006        WD         Normal  184924.279659  \n",
       "1458     11   2006        WD         Normal  187741.866657  \n",
       "\n",
       "[1459 rows x 81 columns]"
      ]
     },
     "execution_count": 4,
     "metadata": {},
     "output_type": "execute_result"
    }
   ],
   "source": [
    "sample = pd.read_csv('../input/advanceregression/sample_submission.csv')\n",
    "test['SalePrice'] = sample['SalePrice']\n",
    "test"
   ]
  },
  {
   "cell_type": "markdown",
   "id": "53e82fdf",
   "metadata": {
    "papermill": {
     "duration": 0.029956,
     "end_time": "2022-02-28T17:23:51.223449",
     "exception": false,
     "start_time": "2022-02-28T17:23:51.193493",
     "status": "completed"
    },
    "tags": []
   },
   "source": [
    "Separating input and output columns"
   ]
  },
  {
   "cell_type": "code",
   "execution_count": 5,
   "id": "d7e8d54f",
   "metadata": {
    "execution": {
     "iopub.execute_input": "2022-02-28T17:23:51.289352Z",
     "iopub.status.busy": "2022-02-28T17:23:51.288470Z",
     "iopub.status.idle": "2022-02-28T17:23:51.293004Z",
     "shell.execute_reply": "2022-02-28T17:23:51.293464Z",
     "shell.execute_reply.started": "2022-02-28T17:17:24.090915Z"
    },
    "papermill": {
     "duration": 0.039939,
     "end_time": "2022-02-28T17:23:51.293612",
     "exception": false,
     "start_time": "2022-02-28T17:23:51.253673",
     "status": "completed"
    },
    "tags": []
   },
   "outputs": [],
   "source": [
    "X = df.iloc[:,:-1]\n",
    "columns = X.columns\n",
    "Y = df.iloc[:,-1]\n",
    "X_test = test.iloc[:,:-1]\n",
    "Y_test = test.iloc[:,-1]"
   ]
  },
  {
   "cell_type": "code",
   "execution_count": 6,
   "id": "4be104ed",
   "metadata": {
    "execution": {
     "iopub.execute_input": "2022-02-28T17:23:51.360972Z",
     "iopub.status.busy": "2022-02-28T17:23:51.360099Z",
     "iopub.status.idle": "2022-02-28T17:23:51.372814Z",
     "shell.execute_reply": "2022-02-28T17:23:51.373271Z",
     "shell.execute_reply.started": "2022-02-28T17:17:25.380744Z"
    },
    "papermill": {
     "duration": 0.049739,
     "end_time": "2022-02-28T17:23:51.373433",
     "exception": false,
     "start_time": "2022-02-28T17:23:51.323694",
     "status": "completed"
    },
    "tags": []
   },
   "outputs": [],
   "source": [
    "X = X.append(X_test,ignore_index=True)\n",
    "Y = Y.append(Y_test,ignore_index=True)"
   ]
  },
  {
   "cell_type": "markdown",
   "id": "b761ca22",
   "metadata": {
    "papermill": {
     "duration": 0.029434,
     "end_time": "2022-02-28T17:23:51.432723",
     "exception": false,
     "start_time": "2022-02-28T17:23:51.403289",
     "status": "completed"
    },
    "tags": []
   },
   "source": [
    "Changing object dtype columns to str"
   ]
  },
  {
   "cell_type": "code",
   "execution_count": 7,
   "id": "c55010f1",
   "metadata": {
    "execution": {
     "iopub.execute_input": "2022-02-28T17:23:51.497007Z",
     "iopub.status.busy": "2022-02-28T17:23:51.496284Z",
     "iopub.status.idle": "2022-02-28T17:23:51.543800Z",
     "shell.execute_reply": "2022-02-28T17:23:51.543334Z",
     "shell.execute_reply.started": "2022-02-28T17:17:26.591057Z"
    },
    "papermill": {
     "duration": 0.081696,
     "end_time": "2022-02-28T17:23:51.543921",
     "exception": false,
     "start_time": "2022-02-28T17:23:51.462225",
     "status": "completed"
    },
    "tags": []
   },
   "outputs": [
    {
     "data": {
      "text/html": [
       "<div>\n",
       "<style scoped>\n",
       "    .dataframe tbody tr th:only-of-type {\n",
       "        vertical-align: middle;\n",
       "    }\n",
       "\n",
       "    .dataframe tbody tr th {\n",
       "        vertical-align: top;\n",
       "    }\n",
       "\n",
       "    .dataframe thead th {\n",
       "        text-align: right;\n",
       "    }\n",
       "</style>\n",
       "<table border=\"1\" class=\"dataframe\">\n",
       "  <thead>\n",
       "    <tr style=\"text-align: right;\">\n",
       "      <th></th>\n",
       "      <th>MSZoning</th>\n",
       "      <th>Street</th>\n",
       "      <th>Alley</th>\n",
       "      <th>LotShape</th>\n",
       "      <th>LandContour</th>\n",
       "      <th>Utilities</th>\n",
       "      <th>LotConfig</th>\n",
       "      <th>LandSlope</th>\n",
       "      <th>Neighborhood</th>\n",
       "      <th>Condition1</th>\n",
       "      <th>...</th>\n",
       "      <th>GarageType</th>\n",
       "      <th>GarageFinish</th>\n",
       "      <th>GarageQual</th>\n",
       "      <th>GarageCond</th>\n",
       "      <th>PavedDrive</th>\n",
       "      <th>PoolQC</th>\n",
       "      <th>Fence</th>\n",
       "      <th>MiscFeature</th>\n",
       "      <th>SaleType</th>\n",
       "      <th>SaleCondition</th>\n",
       "    </tr>\n",
       "  </thead>\n",
       "  <tbody>\n",
       "    <tr>\n",
       "      <th>0</th>\n",
       "      <td>RL</td>\n",
       "      <td>Pave</td>\n",
       "      <td>nan</td>\n",
       "      <td>Reg</td>\n",
       "      <td>Lvl</td>\n",
       "      <td>AllPub</td>\n",
       "      <td>Inside</td>\n",
       "      <td>Gtl</td>\n",
       "      <td>CollgCr</td>\n",
       "      <td>Norm</td>\n",
       "      <td>...</td>\n",
       "      <td>Attchd</td>\n",
       "      <td>RFn</td>\n",
       "      <td>TA</td>\n",
       "      <td>TA</td>\n",
       "      <td>Y</td>\n",
       "      <td>nan</td>\n",
       "      <td>nan</td>\n",
       "      <td>nan</td>\n",
       "      <td>WD</td>\n",
       "      <td>Normal</td>\n",
       "    </tr>\n",
       "    <tr>\n",
       "      <th>1</th>\n",
       "      <td>RL</td>\n",
       "      <td>Pave</td>\n",
       "      <td>nan</td>\n",
       "      <td>Reg</td>\n",
       "      <td>Lvl</td>\n",
       "      <td>AllPub</td>\n",
       "      <td>FR2</td>\n",
       "      <td>Gtl</td>\n",
       "      <td>Veenker</td>\n",
       "      <td>Feedr</td>\n",
       "      <td>...</td>\n",
       "      <td>Attchd</td>\n",
       "      <td>RFn</td>\n",
       "      <td>TA</td>\n",
       "      <td>TA</td>\n",
       "      <td>Y</td>\n",
       "      <td>nan</td>\n",
       "      <td>nan</td>\n",
       "      <td>nan</td>\n",
       "      <td>WD</td>\n",
       "      <td>Normal</td>\n",
       "    </tr>\n",
       "    <tr>\n",
       "      <th>2</th>\n",
       "      <td>RL</td>\n",
       "      <td>Pave</td>\n",
       "      <td>nan</td>\n",
       "      <td>IR1</td>\n",
       "      <td>Lvl</td>\n",
       "      <td>AllPub</td>\n",
       "      <td>Inside</td>\n",
       "      <td>Gtl</td>\n",
       "      <td>CollgCr</td>\n",
       "      <td>Norm</td>\n",
       "      <td>...</td>\n",
       "      <td>Attchd</td>\n",
       "      <td>RFn</td>\n",
       "      <td>TA</td>\n",
       "      <td>TA</td>\n",
       "      <td>Y</td>\n",
       "      <td>nan</td>\n",
       "      <td>nan</td>\n",
       "      <td>nan</td>\n",
       "      <td>WD</td>\n",
       "      <td>Normal</td>\n",
       "    </tr>\n",
       "    <tr>\n",
       "      <th>3</th>\n",
       "      <td>RL</td>\n",
       "      <td>Pave</td>\n",
       "      <td>nan</td>\n",
       "      <td>IR1</td>\n",
       "      <td>Lvl</td>\n",
       "      <td>AllPub</td>\n",
       "      <td>Corner</td>\n",
       "      <td>Gtl</td>\n",
       "      <td>Crawfor</td>\n",
       "      <td>Norm</td>\n",
       "      <td>...</td>\n",
       "      <td>Detchd</td>\n",
       "      <td>Unf</td>\n",
       "      <td>TA</td>\n",
       "      <td>TA</td>\n",
       "      <td>Y</td>\n",
       "      <td>nan</td>\n",
       "      <td>nan</td>\n",
       "      <td>nan</td>\n",
       "      <td>WD</td>\n",
       "      <td>Abnorml</td>\n",
       "    </tr>\n",
       "    <tr>\n",
       "      <th>4</th>\n",
       "      <td>RL</td>\n",
       "      <td>Pave</td>\n",
       "      <td>nan</td>\n",
       "      <td>IR1</td>\n",
       "      <td>Lvl</td>\n",
       "      <td>AllPub</td>\n",
       "      <td>FR2</td>\n",
       "      <td>Gtl</td>\n",
       "      <td>NoRidge</td>\n",
       "      <td>Norm</td>\n",
       "      <td>...</td>\n",
       "      <td>Attchd</td>\n",
       "      <td>RFn</td>\n",
       "      <td>TA</td>\n",
       "      <td>TA</td>\n",
       "      <td>Y</td>\n",
       "      <td>nan</td>\n",
       "      <td>nan</td>\n",
       "      <td>nan</td>\n",
       "      <td>WD</td>\n",
       "      <td>Normal</td>\n",
       "    </tr>\n",
       "    <tr>\n",
       "      <th>...</th>\n",
       "      <td>...</td>\n",
       "      <td>...</td>\n",
       "      <td>...</td>\n",
       "      <td>...</td>\n",
       "      <td>...</td>\n",
       "      <td>...</td>\n",
       "      <td>...</td>\n",
       "      <td>...</td>\n",
       "      <td>...</td>\n",
       "      <td>...</td>\n",
       "      <td>...</td>\n",
       "      <td>...</td>\n",
       "      <td>...</td>\n",
       "      <td>...</td>\n",
       "      <td>...</td>\n",
       "      <td>...</td>\n",
       "      <td>...</td>\n",
       "      <td>...</td>\n",
       "      <td>...</td>\n",
       "      <td>...</td>\n",
       "      <td>...</td>\n",
       "    </tr>\n",
       "    <tr>\n",
       "      <th>2914</th>\n",
       "      <td>RM</td>\n",
       "      <td>Pave</td>\n",
       "      <td>nan</td>\n",
       "      <td>Reg</td>\n",
       "      <td>Lvl</td>\n",
       "      <td>AllPub</td>\n",
       "      <td>Inside</td>\n",
       "      <td>Gtl</td>\n",
       "      <td>MeadowV</td>\n",
       "      <td>Norm</td>\n",
       "      <td>...</td>\n",
       "      <td>nan</td>\n",
       "      <td>nan</td>\n",
       "      <td>nan</td>\n",
       "      <td>nan</td>\n",
       "      <td>Y</td>\n",
       "      <td>nan</td>\n",
       "      <td>nan</td>\n",
       "      <td>nan</td>\n",
       "      <td>WD</td>\n",
       "      <td>Normal</td>\n",
       "    </tr>\n",
       "    <tr>\n",
       "      <th>2915</th>\n",
       "      <td>RM</td>\n",
       "      <td>Pave</td>\n",
       "      <td>nan</td>\n",
       "      <td>Reg</td>\n",
       "      <td>Lvl</td>\n",
       "      <td>AllPub</td>\n",
       "      <td>Inside</td>\n",
       "      <td>Gtl</td>\n",
       "      <td>MeadowV</td>\n",
       "      <td>Norm</td>\n",
       "      <td>...</td>\n",
       "      <td>CarPort</td>\n",
       "      <td>Unf</td>\n",
       "      <td>TA</td>\n",
       "      <td>TA</td>\n",
       "      <td>Y</td>\n",
       "      <td>nan</td>\n",
       "      <td>nan</td>\n",
       "      <td>nan</td>\n",
       "      <td>WD</td>\n",
       "      <td>Abnorml</td>\n",
       "    </tr>\n",
       "    <tr>\n",
       "      <th>2916</th>\n",
       "      <td>RL</td>\n",
       "      <td>Pave</td>\n",
       "      <td>nan</td>\n",
       "      <td>Reg</td>\n",
       "      <td>Lvl</td>\n",
       "      <td>AllPub</td>\n",
       "      <td>Inside</td>\n",
       "      <td>Gtl</td>\n",
       "      <td>Mitchel</td>\n",
       "      <td>Norm</td>\n",
       "      <td>...</td>\n",
       "      <td>Detchd</td>\n",
       "      <td>Unf</td>\n",
       "      <td>TA</td>\n",
       "      <td>TA</td>\n",
       "      <td>Y</td>\n",
       "      <td>nan</td>\n",
       "      <td>nan</td>\n",
       "      <td>nan</td>\n",
       "      <td>WD</td>\n",
       "      <td>Abnorml</td>\n",
       "    </tr>\n",
       "    <tr>\n",
       "      <th>2917</th>\n",
       "      <td>RL</td>\n",
       "      <td>Pave</td>\n",
       "      <td>nan</td>\n",
       "      <td>Reg</td>\n",
       "      <td>Lvl</td>\n",
       "      <td>AllPub</td>\n",
       "      <td>Inside</td>\n",
       "      <td>Gtl</td>\n",
       "      <td>Mitchel</td>\n",
       "      <td>Norm</td>\n",
       "      <td>...</td>\n",
       "      <td>nan</td>\n",
       "      <td>nan</td>\n",
       "      <td>nan</td>\n",
       "      <td>nan</td>\n",
       "      <td>Y</td>\n",
       "      <td>nan</td>\n",
       "      <td>MnPrv</td>\n",
       "      <td>Shed</td>\n",
       "      <td>WD</td>\n",
       "      <td>Normal</td>\n",
       "    </tr>\n",
       "    <tr>\n",
       "      <th>2918</th>\n",
       "      <td>RL</td>\n",
       "      <td>Pave</td>\n",
       "      <td>nan</td>\n",
       "      <td>Reg</td>\n",
       "      <td>Lvl</td>\n",
       "      <td>AllPub</td>\n",
       "      <td>Inside</td>\n",
       "      <td>Mod</td>\n",
       "      <td>Mitchel</td>\n",
       "      <td>Norm</td>\n",
       "      <td>...</td>\n",
       "      <td>Attchd</td>\n",
       "      <td>Fin</td>\n",
       "      <td>TA</td>\n",
       "      <td>TA</td>\n",
       "      <td>Y</td>\n",
       "      <td>nan</td>\n",
       "      <td>nan</td>\n",
       "      <td>nan</td>\n",
       "      <td>WD</td>\n",
       "      <td>Normal</td>\n",
       "    </tr>\n",
       "  </tbody>\n",
       "</table>\n",
       "<p>2919 rows × 43 columns</p>\n",
       "</div>"
      ],
      "text/plain": [
       "     MSZoning Street Alley LotShape LandContour Utilities LotConfig LandSlope  \\\n",
       "0          RL   Pave   nan      Reg         Lvl    AllPub    Inside       Gtl   \n",
       "1          RL   Pave   nan      Reg         Lvl    AllPub       FR2       Gtl   \n",
       "2          RL   Pave   nan      IR1         Lvl    AllPub    Inside       Gtl   \n",
       "3          RL   Pave   nan      IR1         Lvl    AllPub    Corner       Gtl   \n",
       "4          RL   Pave   nan      IR1         Lvl    AllPub       FR2       Gtl   \n",
       "...       ...    ...   ...      ...         ...       ...       ...       ...   \n",
       "2914       RM   Pave   nan      Reg         Lvl    AllPub    Inside       Gtl   \n",
       "2915       RM   Pave   nan      Reg         Lvl    AllPub    Inside       Gtl   \n",
       "2916       RL   Pave   nan      Reg         Lvl    AllPub    Inside       Gtl   \n",
       "2917       RL   Pave   nan      Reg         Lvl    AllPub    Inside       Gtl   \n",
       "2918       RL   Pave   nan      Reg         Lvl    AllPub    Inside       Mod   \n",
       "\n",
       "     Neighborhood Condition1  ... GarageType GarageFinish GarageQual  \\\n",
       "0         CollgCr       Norm  ...     Attchd          RFn         TA   \n",
       "1         Veenker      Feedr  ...     Attchd          RFn         TA   \n",
       "2         CollgCr       Norm  ...     Attchd          RFn         TA   \n",
       "3         Crawfor       Norm  ...     Detchd          Unf         TA   \n",
       "4         NoRidge       Norm  ...     Attchd          RFn         TA   \n",
       "...           ...        ...  ...        ...          ...        ...   \n",
       "2914      MeadowV       Norm  ...        nan          nan        nan   \n",
       "2915      MeadowV       Norm  ...    CarPort          Unf         TA   \n",
       "2916      Mitchel       Norm  ...     Detchd          Unf         TA   \n",
       "2917      Mitchel       Norm  ...        nan          nan        nan   \n",
       "2918      Mitchel       Norm  ...     Attchd          Fin         TA   \n",
       "\n",
       "     GarageCond PavedDrive PoolQC  Fence MiscFeature SaleType SaleCondition  \n",
       "0            TA          Y    nan    nan         nan       WD        Normal  \n",
       "1            TA          Y    nan    nan         nan       WD        Normal  \n",
       "2            TA          Y    nan    nan         nan       WD        Normal  \n",
       "3            TA          Y    nan    nan         nan       WD       Abnorml  \n",
       "4            TA          Y    nan    nan         nan       WD        Normal  \n",
       "...         ...        ...    ...    ...         ...      ...           ...  \n",
       "2914        nan          Y    nan    nan         nan       WD        Normal  \n",
       "2915         TA          Y    nan    nan         nan       WD       Abnorml  \n",
       "2916         TA          Y    nan    nan         nan       WD       Abnorml  \n",
       "2917        nan          Y    nan  MnPrv        Shed       WD        Normal  \n",
       "2918         TA          Y    nan    nan         nan       WD        Normal  \n",
       "\n",
       "[2919 rows x 43 columns]"
      ]
     },
     "execution_count": 7,
     "metadata": {},
     "output_type": "execute_result"
    }
   ],
   "source": [
    "from sklearn.preprocessing import LabelEncoder\n",
    "temp = X.select_dtypes(include = \"object\").columns\n",
    "temp = list(temp)\n",
    "X[temp].apply(lambda col: col.astype(str))"
   ]
  },
  {
   "cell_type": "markdown",
   "id": "7fd9ceec",
   "metadata": {
    "papermill": {
     "duration": 0.029962,
     "end_time": "2022-02-28T17:23:51.604276",
     "exception": false,
     "start_time": "2022-02-28T17:23:51.574314",
     "status": "completed"
    },
    "tags": []
   },
   "source": [
    "Label encoding all the columns"
   ]
  },
  {
   "cell_type": "code",
   "execution_count": 8,
   "id": "b3795acf",
   "metadata": {
    "execution": {
     "iopub.execute_input": "2022-02-28T17:23:51.671084Z",
     "iopub.status.busy": "2022-02-28T17:23:51.670299Z",
     "iopub.status.idle": "2022-02-28T17:23:51.717608Z",
     "shell.execute_reply": "2022-02-28T17:23:51.717117Z",
     "shell.execute_reply.started": "2022-02-28T17:17:28.653046Z"
    },
    "papermill": {
     "duration": 0.082633,
     "end_time": "2022-02-28T17:23:51.717744",
     "exception": false,
     "start_time": "2022-02-28T17:23:51.635111",
     "status": "completed"
    },
    "tags": []
   },
   "outputs": [],
   "source": [
    "\n",
    "X_temp = X[temp].apply(lambda col: LabelEncoder().fit_transform(col.astype(str)), axis=0, result_type='expand')"
   ]
  },
  {
   "cell_type": "markdown",
   "id": "1d3876c4",
   "metadata": {
    "papermill": {
     "duration": 0.030016,
     "end_time": "2022-02-28T17:23:51.778013",
     "exception": false,
     "start_time": "2022-02-28T17:23:51.747997",
     "status": "completed"
    },
    "tags": []
   },
   "source": [
    "Appending the encoded columns in the final dataframe"
   ]
  },
  {
   "cell_type": "code",
   "execution_count": 9,
   "id": "4aa81ce7",
   "metadata": {
    "execution": {
     "iopub.execute_input": "2022-02-28T17:23:51.845389Z",
     "iopub.status.busy": "2022-02-28T17:23:51.844184Z",
     "iopub.status.idle": "2022-02-28T17:23:51.849578Z",
     "shell.execute_reply": "2022-02-28T17:23:51.849112Z",
     "shell.execute_reply.started": "2022-02-28T17:17:31.520397Z"
    },
    "papermill": {
     "duration": 0.040908,
     "end_time": "2022-02-28T17:23:51.849691",
     "exception": false,
     "start_time": "2022-02-28T17:23:51.808783",
     "status": "completed"
    },
    "tags": []
   },
   "outputs": [],
   "source": [
    "X = X.drop(temp,axis=1)\n",
    "X = pd.concat([X,X_temp],axis=1)"
   ]
  },
  {
   "cell_type": "markdown",
   "id": "d78f7f65",
   "metadata": {
    "papermill": {
     "duration": 0.029943,
     "end_time": "2022-02-28T17:23:51.909788",
     "exception": false,
     "start_time": "2022-02-28T17:23:51.879845",
     "status": "completed"
    },
    "tags": []
   },
   "source": [
    "replacing NAN with -1"
   ]
  },
  {
   "cell_type": "code",
   "execution_count": 10,
   "id": "2b7c3cef",
   "metadata": {
    "execution": {
     "iopub.execute_input": "2022-02-28T17:23:51.975504Z",
     "iopub.status.busy": "2022-02-28T17:23:51.974577Z",
     "iopub.status.idle": "2022-02-28T17:23:51.980078Z",
     "shell.execute_reply": "2022-02-28T17:23:51.980500Z",
     "shell.execute_reply.started": "2022-02-28T17:17:31.531372Z"
    },
    "papermill": {
     "duration": 0.040862,
     "end_time": "2022-02-28T17:23:51.980681",
     "exception": false,
     "start_time": "2022-02-28T17:23:51.939819",
     "status": "completed"
    },
    "tags": []
   },
   "outputs": [],
   "source": [
    "X = X.replace(np.nan,-1)"
   ]
  },
  {
   "cell_type": "code",
   "execution_count": 11,
   "id": "fc91044b",
   "metadata": {
    "execution": {
     "iopub.execute_input": "2022-02-28T17:23:52.056841Z",
     "iopub.status.busy": "2022-02-28T17:23:52.048839Z",
     "iopub.status.idle": "2022-02-28T17:23:52.067414Z",
     "shell.execute_reply": "2022-02-28T17:23:52.067824Z",
     "shell.execute_reply.started": "2022-02-28T17:17:31.594888Z"
    },
    "papermill": {
     "duration": 0.057135,
     "end_time": "2022-02-28T17:23:52.067994",
     "exception": false,
     "start_time": "2022-02-28T17:23:52.010859",
     "status": "completed"
    },
    "tags": []
   },
   "outputs": [
    {
     "data": {
      "text/html": [
       "<div>\n",
       "<style scoped>\n",
       "    .dataframe tbody tr th:only-of-type {\n",
       "        vertical-align: middle;\n",
       "    }\n",
       "\n",
       "    .dataframe tbody tr th {\n",
       "        vertical-align: top;\n",
       "    }\n",
       "\n",
       "    .dataframe thead th {\n",
       "        text-align: right;\n",
       "    }\n",
       "</style>\n",
       "<table border=\"1\" class=\"dataframe\">\n",
       "  <thead>\n",
       "    <tr style=\"text-align: right;\">\n",
       "      <th></th>\n",
       "      <th>Id</th>\n",
       "      <th>MSSubClass</th>\n",
       "      <th>LotFrontage</th>\n",
       "      <th>LotArea</th>\n",
       "      <th>OverallQual</th>\n",
       "      <th>OverallCond</th>\n",
       "      <th>YearBuilt</th>\n",
       "      <th>YearRemodAdd</th>\n",
       "      <th>MasVnrArea</th>\n",
       "      <th>BsmtFinSF1</th>\n",
       "      <th>...</th>\n",
       "      <th>GarageType</th>\n",
       "      <th>GarageFinish</th>\n",
       "      <th>GarageQual</th>\n",
       "      <th>GarageCond</th>\n",
       "      <th>PavedDrive</th>\n",
       "      <th>PoolQC</th>\n",
       "      <th>Fence</th>\n",
       "      <th>MiscFeature</th>\n",
       "      <th>SaleType</th>\n",
       "      <th>SaleCondition</th>\n",
       "    </tr>\n",
       "  </thead>\n",
       "  <tbody>\n",
       "    <tr>\n",
       "      <th>0</th>\n",
       "      <td>1</td>\n",
       "      <td>60</td>\n",
       "      <td>65.0</td>\n",
       "      <td>8450</td>\n",
       "      <td>7</td>\n",
       "      <td>5</td>\n",
       "      <td>2003</td>\n",
       "      <td>2003</td>\n",
       "      <td>196.0</td>\n",
       "      <td>706.0</td>\n",
       "      <td>...</td>\n",
       "      <td>1</td>\n",
       "      <td>1</td>\n",
       "      <td>4</td>\n",
       "      <td>4</td>\n",
       "      <td>2</td>\n",
       "      <td>3</td>\n",
       "      <td>4</td>\n",
       "      <td>4</td>\n",
       "      <td>8</td>\n",
       "      <td>4</td>\n",
       "    </tr>\n",
       "    <tr>\n",
       "      <th>1</th>\n",
       "      <td>2</td>\n",
       "      <td>20</td>\n",
       "      <td>80.0</td>\n",
       "      <td>9600</td>\n",
       "      <td>6</td>\n",
       "      <td>8</td>\n",
       "      <td>1976</td>\n",
       "      <td>1976</td>\n",
       "      <td>0.0</td>\n",
       "      <td>978.0</td>\n",
       "      <td>...</td>\n",
       "      <td>1</td>\n",
       "      <td>1</td>\n",
       "      <td>4</td>\n",
       "      <td>4</td>\n",
       "      <td>2</td>\n",
       "      <td>3</td>\n",
       "      <td>4</td>\n",
       "      <td>4</td>\n",
       "      <td>8</td>\n",
       "      <td>4</td>\n",
       "    </tr>\n",
       "    <tr>\n",
       "      <th>2</th>\n",
       "      <td>3</td>\n",
       "      <td>60</td>\n",
       "      <td>68.0</td>\n",
       "      <td>11250</td>\n",
       "      <td>7</td>\n",
       "      <td>5</td>\n",
       "      <td>2001</td>\n",
       "      <td>2002</td>\n",
       "      <td>162.0</td>\n",
       "      <td>486.0</td>\n",
       "      <td>...</td>\n",
       "      <td>1</td>\n",
       "      <td>1</td>\n",
       "      <td>4</td>\n",
       "      <td>4</td>\n",
       "      <td>2</td>\n",
       "      <td>3</td>\n",
       "      <td>4</td>\n",
       "      <td>4</td>\n",
       "      <td>8</td>\n",
       "      <td>4</td>\n",
       "    </tr>\n",
       "    <tr>\n",
       "      <th>3</th>\n",
       "      <td>4</td>\n",
       "      <td>70</td>\n",
       "      <td>60.0</td>\n",
       "      <td>9550</td>\n",
       "      <td>7</td>\n",
       "      <td>5</td>\n",
       "      <td>1915</td>\n",
       "      <td>1970</td>\n",
       "      <td>0.0</td>\n",
       "      <td>216.0</td>\n",
       "      <td>...</td>\n",
       "      <td>5</td>\n",
       "      <td>2</td>\n",
       "      <td>4</td>\n",
       "      <td>4</td>\n",
       "      <td>2</td>\n",
       "      <td>3</td>\n",
       "      <td>4</td>\n",
       "      <td>4</td>\n",
       "      <td>8</td>\n",
       "      <td>0</td>\n",
       "    </tr>\n",
       "    <tr>\n",
       "      <th>4</th>\n",
       "      <td>5</td>\n",
       "      <td>60</td>\n",
       "      <td>84.0</td>\n",
       "      <td>14260</td>\n",
       "      <td>8</td>\n",
       "      <td>5</td>\n",
       "      <td>2000</td>\n",
       "      <td>2000</td>\n",
       "      <td>350.0</td>\n",
       "      <td>655.0</td>\n",
       "      <td>...</td>\n",
       "      <td>1</td>\n",
       "      <td>1</td>\n",
       "      <td>4</td>\n",
       "      <td>4</td>\n",
       "      <td>2</td>\n",
       "      <td>3</td>\n",
       "      <td>4</td>\n",
       "      <td>4</td>\n",
       "      <td>8</td>\n",
       "      <td>4</td>\n",
       "    </tr>\n",
       "    <tr>\n",
       "      <th>...</th>\n",
       "      <td>...</td>\n",
       "      <td>...</td>\n",
       "      <td>...</td>\n",
       "      <td>...</td>\n",
       "      <td>...</td>\n",
       "      <td>...</td>\n",
       "      <td>...</td>\n",
       "      <td>...</td>\n",
       "      <td>...</td>\n",
       "      <td>...</td>\n",
       "      <td>...</td>\n",
       "      <td>...</td>\n",
       "      <td>...</td>\n",
       "      <td>...</td>\n",
       "      <td>...</td>\n",
       "      <td>...</td>\n",
       "      <td>...</td>\n",
       "      <td>...</td>\n",
       "      <td>...</td>\n",
       "      <td>...</td>\n",
       "      <td>...</td>\n",
       "    </tr>\n",
       "    <tr>\n",
       "      <th>2914</th>\n",
       "      <td>2915</td>\n",
       "      <td>160</td>\n",
       "      <td>21.0</td>\n",
       "      <td>1936</td>\n",
       "      <td>4</td>\n",
       "      <td>7</td>\n",
       "      <td>1970</td>\n",
       "      <td>1970</td>\n",
       "      <td>0.0</td>\n",
       "      <td>0.0</td>\n",
       "      <td>...</td>\n",
       "      <td>6</td>\n",
       "      <td>3</td>\n",
       "      <td>5</td>\n",
       "      <td>5</td>\n",
       "      <td>2</td>\n",
       "      <td>3</td>\n",
       "      <td>4</td>\n",
       "      <td>4</td>\n",
       "      <td>8</td>\n",
       "      <td>4</td>\n",
       "    </tr>\n",
       "    <tr>\n",
       "      <th>2915</th>\n",
       "      <td>2916</td>\n",
       "      <td>160</td>\n",
       "      <td>21.0</td>\n",
       "      <td>1894</td>\n",
       "      <td>4</td>\n",
       "      <td>5</td>\n",
       "      <td>1970</td>\n",
       "      <td>1970</td>\n",
       "      <td>0.0</td>\n",
       "      <td>252.0</td>\n",
       "      <td>...</td>\n",
       "      <td>4</td>\n",
       "      <td>2</td>\n",
       "      <td>4</td>\n",
       "      <td>4</td>\n",
       "      <td>2</td>\n",
       "      <td>3</td>\n",
       "      <td>4</td>\n",
       "      <td>4</td>\n",
       "      <td>8</td>\n",
       "      <td>0</td>\n",
       "    </tr>\n",
       "    <tr>\n",
       "      <th>2916</th>\n",
       "      <td>2917</td>\n",
       "      <td>20</td>\n",
       "      <td>160.0</td>\n",
       "      <td>20000</td>\n",
       "      <td>5</td>\n",
       "      <td>7</td>\n",
       "      <td>1960</td>\n",
       "      <td>1996</td>\n",
       "      <td>0.0</td>\n",
       "      <td>1224.0</td>\n",
       "      <td>...</td>\n",
       "      <td>5</td>\n",
       "      <td>2</td>\n",
       "      <td>4</td>\n",
       "      <td>4</td>\n",
       "      <td>2</td>\n",
       "      <td>3</td>\n",
       "      <td>4</td>\n",
       "      <td>4</td>\n",
       "      <td>8</td>\n",
       "      <td>0</td>\n",
       "    </tr>\n",
       "    <tr>\n",
       "      <th>2917</th>\n",
       "      <td>2918</td>\n",
       "      <td>85</td>\n",
       "      <td>62.0</td>\n",
       "      <td>10441</td>\n",
       "      <td>5</td>\n",
       "      <td>5</td>\n",
       "      <td>1992</td>\n",
       "      <td>1992</td>\n",
       "      <td>0.0</td>\n",
       "      <td>337.0</td>\n",
       "      <td>...</td>\n",
       "      <td>6</td>\n",
       "      <td>3</td>\n",
       "      <td>5</td>\n",
       "      <td>5</td>\n",
       "      <td>2</td>\n",
       "      <td>3</td>\n",
       "      <td>2</td>\n",
       "      <td>2</td>\n",
       "      <td>8</td>\n",
       "      <td>4</td>\n",
       "    </tr>\n",
       "    <tr>\n",
       "      <th>2918</th>\n",
       "      <td>2919</td>\n",
       "      <td>60</td>\n",
       "      <td>74.0</td>\n",
       "      <td>9627</td>\n",
       "      <td>7</td>\n",
       "      <td>5</td>\n",
       "      <td>1993</td>\n",
       "      <td>1994</td>\n",
       "      <td>94.0</td>\n",
       "      <td>758.0</td>\n",
       "      <td>...</td>\n",
       "      <td>1</td>\n",
       "      <td>0</td>\n",
       "      <td>4</td>\n",
       "      <td>4</td>\n",
       "      <td>2</td>\n",
       "      <td>3</td>\n",
       "      <td>4</td>\n",
       "      <td>4</td>\n",
       "      <td>8</td>\n",
       "      <td>4</td>\n",
       "    </tr>\n",
       "  </tbody>\n",
       "</table>\n",
       "<p>2919 rows × 80 columns</p>\n",
       "</div>"
      ],
      "text/plain": [
       "        Id  MSSubClass  LotFrontage  LotArea  OverallQual  OverallCond  \\\n",
       "0        1          60         65.0     8450            7            5   \n",
       "1        2          20         80.0     9600            6            8   \n",
       "2        3          60         68.0    11250            7            5   \n",
       "3        4          70         60.0     9550            7            5   \n",
       "4        5          60         84.0    14260            8            5   \n",
       "...    ...         ...          ...      ...          ...          ...   \n",
       "2914  2915         160         21.0     1936            4            7   \n",
       "2915  2916         160         21.0     1894            4            5   \n",
       "2916  2917          20        160.0    20000            5            7   \n",
       "2917  2918          85         62.0    10441            5            5   \n",
       "2918  2919          60         74.0     9627            7            5   \n",
       "\n",
       "      YearBuilt  YearRemodAdd  MasVnrArea  BsmtFinSF1  ...  GarageType  \\\n",
       "0          2003          2003       196.0       706.0  ...           1   \n",
       "1          1976          1976         0.0       978.0  ...           1   \n",
       "2          2001          2002       162.0       486.0  ...           1   \n",
       "3          1915          1970         0.0       216.0  ...           5   \n",
       "4          2000          2000       350.0       655.0  ...           1   \n",
       "...         ...           ...         ...         ...  ...         ...   \n",
       "2914       1970          1970         0.0         0.0  ...           6   \n",
       "2915       1970          1970         0.0       252.0  ...           4   \n",
       "2916       1960          1996         0.0      1224.0  ...           5   \n",
       "2917       1992          1992         0.0       337.0  ...           6   \n",
       "2918       1993          1994        94.0       758.0  ...           1   \n",
       "\n",
       "      GarageFinish  GarageQual  GarageCond  PavedDrive  PoolQC  Fence  \\\n",
       "0                1           4           4           2       3      4   \n",
       "1                1           4           4           2       3      4   \n",
       "2                1           4           4           2       3      4   \n",
       "3                2           4           4           2       3      4   \n",
       "4                1           4           4           2       3      4   \n",
       "...            ...         ...         ...         ...     ...    ...   \n",
       "2914             3           5           5           2       3      4   \n",
       "2915             2           4           4           2       3      4   \n",
       "2916             2           4           4           2       3      4   \n",
       "2917             3           5           5           2       3      2   \n",
       "2918             0           4           4           2       3      4   \n",
       "\n",
       "      MiscFeature  SaleType  SaleCondition  \n",
       "0               4         8              4  \n",
       "1               4         8              4  \n",
       "2               4         8              4  \n",
       "3               4         8              0  \n",
       "4               4         8              4  \n",
       "...           ...       ...            ...  \n",
       "2914            4         8              4  \n",
       "2915            4         8              0  \n",
       "2916            4         8              0  \n",
       "2917            2         8              4  \n",
       "2918            4         8              4  \n",
       "\n",
       "[2919 rows x 80 columns]"
      ]
     },
     "execution_count": 11,
     "metadata": {},
     "output_type": "execute_result"
    }
   ],
   "source": [
    "X"
   ]
  },
  {
   "cell_type": "markdown",
   "id": "2a07c716",
   "metadata": {
    "papermill": {
     "duration": 0.030648,
     "end_time": "2022-02-28T17:23:52.129763",
     "exception": false,
     "start_time": "2022-02-28T17:23:52.099115",
     "status": "completed"
    },
    "tags": []
   },
   "source": [
    "Importance of individual features"
   ]
  },
  {
   "cell_type": "code",
   "execution_count": 12,
   "id": "385e87d7",
   "metadata": {
    "execution": {
     "iopub.execute_input": "2022-02-28T17:23:52.195225Z",
     "iopub.status.busy": "2022-02-28T17:23:52.194433Z",
     "iopub.status.idle": "2022-02-28T17:24:14.830336Z",
     "shell.execute_reply": "2022-02-28T17:24:14.829749Z",
     "shell.execute_reply.started": "2022-02-28T17:17:34.188065Z"
    },
    "papermill": {
     "duration": 22.66951,
     "end_time": "2022-02-28T17:24:14.830470",
     "exception": false,
     "start_time": "2022-02-28T17:23:52.160960",
     "status": "completed"
    },
    "tags": []
   },
   "outputs": [
    {
     "name": "stdout",
     "output_type": "stream",
     "text": [
      "Id 0.22887107837014117\n",
      "MSSubClass 0.0021496071602612743\n",
      "MSZoning 0.005222132214063122\n",
      "LotFrontage 0.0264221410385016\n",
      "LotArea 0.201143447940435\n",
      "Street 0.004430599176975882\n",
      "Alley 0.02090931057622055\n",
      "LotShape 0.008488880257014978\n",
      "LandContour 0.005029997654895597\n",
      "Utilities 0.021755879164017337\n",
      "LotConfig 0.0007704572424804413\n",
      "LandSlope 0.004991140578819772\n",
      "Neighborhood 0.047934430106757325\n",
      "Condition1 0.02184498315644703\n",
      "Condition2 0.0385369902259408\n",
      "BldgType 9.359677379259082e-05\n",
      "HouseStyle 0.20464924735299578\n",
      "OverallQual 0.0009955794723260573\n",
      "OverallCond 0.0003288194787383566\n",
      "YearBuilt 0.0026005109575699997\n",
      "YearRemodAdd 0.0009047392391219009\n",
      "RoofStyle 0.018517561977407605\n",
      "RoofMatl 0.0006885744471874928\n",
      "Exterior1st 0.006075970768826317\n",
      "Exterior2nd 0.0020062654021829355\n",
      "MasVnrType 0.0060721512718792635\n",
      "MasVnrArea 0.025971948581648665\n",
      "ExterQual 0.016652339534477322\n",
      "ExterCond 0.0045749672961503006\n",
      "Foundation 0.004025773999527002\n",
      "BsmtQual 0.0006578483658772916\n",
      "BsmtCond 0.0007366030772340298\n",
      "BsmtExposure 0.0012808375110931404\n",
      "BsmtFinType1 0.00033331889471052754\n",
      "BsmtFinSF1 9.806410701837127e-05\n",
      "BsmtFinType2 0.0041239583456450825\n",
      "BsmtFinSF2 0.001457496433737957\n",
      "BsmtUnfSF 0.0017649875698653866\n",
      "TotalBsmtSF 7.52490293848259e-06\n",
      "Heating 0.00035336528134473306\n",
      "HeatingQC 0.0010042500288114083\n",
      "CentralAir 0.0013935892581338433\n",
      "Electrical 1.1888922568623306e-06\n",
      "1stFlrSF 0.0007616097643036234\n",
      "2ndFlrSF 0.0006627685986763884\n",
      "LowQualFinSF 0.007245167958382524\n",
      "GrLivArea 0.0007447323599695299\n",
      "BsmtFullBath 0.00011804702150564829\n",
      "BsmtHalfBath 0.0005734518836217815\n",
      "FullBath 0.0006632421815931514\n",
      "HalfBath 0.0007280498168434122\n",
      "BedroomAbvGr 0.0003204905264023135\n",
      "KitchenAbvGr 0.0015642759597975925\n",
      "KitchenQual 0.0013793853416904276\n",
      "TotRmsAbvGrd 0.0011721457113321187\n",
      "Functional 0.0036739145632742314\n",
      "Fireplaces 0.0005202742125604753\n",
      "FireplaceQu 0.0005298620346718084\n",
      "GarageType 0.006986892373595733\n",
      "GarageYrBlt 0.00030570433425578154\n",
      "GarageFinish 0.0020349585495048933\n",
      "GarageCars 0.0018405068188396445\n",
      "GarageArea 0.0003760046327483637\n",
      "GarageQual 9.899559300694445e-05\n",
      "GarageCond 0.0007670748771923344\n",
      "PavedDrive 0.0036086081987296934\n",
      "WoodDeckSF 0.00020052813534919065\n",
      "OpenPorchSF 0.003763119543926855\n",
      "EnclosedPorch 0.0007683024415181017\n",
      "3SsnPorch 0.0021392861349412025\n",
      "ScreenPorch 0.0026982746549030663\n",
      "PoolArea 0.004043591176191196\n",
      "PoolQC 0.00024874578245219617\n",
      "Fence 0.00014205062624606833\n",
      "MiscFeature 0.0003420137735605872\n",
      "MiscVal 0.00040955967602397534\n",
      "MoSold 0.0003535215766721993\n",
      "YrSold 3.959858505488956e-05\n",
      "SaleType 0.0008133470393053184\n",
      "SaleCondition 0.001489743455886181\n"
     ]
    },
    {
     "name": "stderr",
     "output_type": "stream",
     "text": [
      "/opt/conda/lib/python3.7/site-packages/ipykernel_launcher.py:12: FutureWarning: In a future version of pandas all arguments of DataFrame.drop except for the argument 'labels' will be keyword-only\n",
      "  if sys.path[0] == '':\n"
     ]
    }
   ],
   "source": [
    "from sklearn.ensemble import RandomForestRegressor\n",
    "rnd_clf = RandomForestRegressor(n_estimators=500)\n",
    "rnd_clf.fit(X,Y)\n",
    "importance_dict = {}\n",
    "for j in X.columns:\n",
    "    importance_dict[j]=0\n",
    "for name,score in zip(columns,rnd_clf.feature_importances_):\n",
    "    importance_dict[name]=importance_dict[name]+score\n",
    "    print(name,score)\n",
    "for k in X.columns:\n",
    "    if(importance_dict[k]<0.0008):\n",
    "        X=X.drop([k],1)"
   ]
  },
  {
   "cell_type": "markdown",
   "id": "cfed2f71",
   "metadata": {
    "papermill": {
     "duration": 0.031345,
     "end_time": "2022-02-28T17:24:14.894135",
     "exception": false,
     "start_time": "2022-02-28T17:24:14.862790",
     "status": "completed"
    },
    "tags": []
   },
   "source": [
    "Plotting the feature importances"
   ]
  },
  {
   "cell_type": "code",
   "execution_count": 13,
   "id": "bea2f3f8",
   "metadata": {
    "execution": {
     "iopub.execute_input": "2022-02-28T17:24:14.964738Z",
     "iopub.status.busy": "2022-02-28T17:24:14.963914Z",
     "iopub.status.idle": "2022-02-28T17:24:16.408990Z",
     "shell.execute_reply": "2022-02-28T17:24:16.409413Z",
     "shell.execute_reply.started": "2022-02-28T17:17:58.545899Z"
    },
    "papermill": {
     "duration": 1.482556,
     "end_time": "2022-02-28T17:24:16.409562",
     "exception": false,
     "start_time": "2022-02-28T17:24:14.927006",
     "status": "completed"
    },
    "tags": []
   },
   "outputs": [
    {
     "data": {
      "text/plain": [
       "<BarContainer object of 80 artists>"
      ]
     },
     "execution_count": 13,
     "metadata": {},
     "output_type": "execute_result"
    },
    {
     "data": {
      "image/png": "[encoded data removed]",
      "text/plain": [
       "<Figure size 1440x1440 with 1 Axes>"
      ]
     },
     "metadata": {
      "needs_background": "light"
     },
     "output_type": "display_data"
    }
   ],
   "source": [
    "sorted_idx = rnd_clf.feature_importances_.argsort()\n",
    "import matplotlib.pyplot as plt\n",
    "plt.figure(figsize=(20, 20))\n",
    "plt.barh(columns[sorted_idx],rnd_clf.feature_importances_[sorted_idx])\n"
   ]
  },
  {
   "cell_type": "markdown",
   "id": "13a261ab",
   "metadata": {
    "papermill": {
     "duration": 0.033821,
     "end_time": "2022-02-28T17:24:16.477438",
     "exception": false,
     "start_time": "2022-02-28T17:24:16.443617",
     "status": "completed"
    },
    "tags": []
   },
   "source": [
    "training testing split"
   ]
  },
  {
   "cell_type": "code",
   "execution_count": 14,
   "id": "4a23abd6",
   "metadata": {
    "execution": {
     "iopub.execute_input": "2022-02-28T17:24:16.551551Z",
     "iopub.status.busy": "2022-02-28T17:24:16.550746Z",
     "iopub.status.idle": "2022-02-28T17:24:16.555933Z",
     "shell.execute_reply": "2022-02-28T17:24:16.555490Z",
     "shell.execute_reply.started": "2022-02-28T17:18:00.088149Z"
    },
    "papermill": {
     "duration": 0.044494,
     "end_time": "2022-02-28T17:24:16.556046",
     "exception": false,
     "start_time": "2022-02-28T17:24:16.511552",
     "status": "completed"
    },
    "tags": []
   },
   "outputs": [],
   "source": [
    "from sklearn.model_selection import train_test_split\n",
    "X,X_test,Y,Y_test = train_test_split(X,Y,test_size=0.2,random_state=0)"
   ]
  },
  {
   "cell_type": "code",
   "execution_count": 15,
   "id": "ec90a7d8",
   "metadata": {
    "execution": {
     "iopub.execute_input": "2022-02-28T17:24:16.629420Z",
     "iopub.status.busy": "2022-02-28T17:24:16.628777Z",
     "iopub.status.idle": "2022-02-28T17:24:16.631490Z",
     "shell.execute_reply": "2022-02-28T17:24:16.631893Z",
     "shell.execute_reply.started": "2022-02-28T17:18:00.100713Z"
    },
    "papermill": {
     "duration": 0.041486,
     "end_time": "2022-02-28T17:24:16.632022",
     "exception": false,
     "start_time": "2022-02-28T17:24:16.590536",
     "status": "completed"
    },
    "tags": []
   },
   "outputs": [
    {
     "data": {
      "text/plain": [
       "47"
      ]
     },
     "execution_count": 15,
     "metadata": {},
     "output_type": "execute_result"
    }
   ],
   "source": [
    "columns=X.columns\n",
    "len(columns)"
   ]
  },
  {
   "cell_type": "markdown",
   "id": "c708f6b7",
   "metadata": {
    "papermill": {
     "duration": 0.034277,
     "end_time": "2022-02-28T17:24:16.700448",
     "exception": false,
     "start_time": "2022-02-28T17:24:16.666171",
     "status": "completed"
    },
    "tags": []
   },
   "source": [
    "Scaling the input features"
   ]
  },
  {
   "cell_type": "code",
   "execution_count": 16,
   "id": "dd8b7d32",
   "metadata": {
    "execution": {
     "iopub.execute_input": "2022-02-28T17:24:20.195134Z",
     "iopub.status.busy": "2022-02-28T17:24:20.192280Z",
     "iopub.status.idle": "2022-02-28T17:24:28.800939Z",
     "shell.execute_reply": "2022-02-28T17:24:28.797477Z",
     "shell.execute_reply.started": "2022-02-28T17:18:00.108295Z"
    },
    "papermill": {
     "duration": 12.066393,
     "end_time": "2022-02-28T17:24:28.801157",
     "exception": false,
     "start_time": "2022-02-28T17:24:16.734764",
     "status": "completed"
    },
    "tags": []
   },
   "outputs": [],
   "source": [
    "from cuml.preprocessing import StandardScaler\n",
    "for i in columns :\n",
    "    scaler = StandardScaler()\n",
    "    X[i] = scaler.fit_transform(X[i].values.reshape(-1,1))\n",
    "    X_test[i] = scaler.transform(X_test[i].values.reshape(-1,1))"
   ]
  },
  {
   "cell_type": "markdown",
   "id": "2764a73f",
   "metadata": {
    "papermill": {
     "duration": 0.056728,
     "end_time": "2022-02-28T17:24:28.920699",
     "exception": false,
     "start_time": "2022-02-28T17:24:28.863971",
     "status": "completed"
    },
    "tags": []
   },
   "source": [
    "dropping the id column"
   ]
  },
  {
   "cell_type": "code",
   "execution_count": 17,
   "id": "ea8140d0",
   "metadata": {
    "execution": {
     "iopub.execute_input": "2022-02-28T17:24:29.047590Z",
     "iopub.status.busy": "2022-02-28T17:24:29.046814Z",
     "iopub.status.idle": "2022-02-28T17:24:29.051414Z",
     "shell.execute_reply": "2022-02-28T17:24:29.050767Z",
     "shell.execute_reply.started": "2022-02-28T17:18:12.793453Z"
    },
    "papermill": {
     "duration": 0.074118,
     "end_time": "2022-02-28T17:24:29.051572",
     "exception": false,
     "start_time": "2022-02-28T17:24:28.977454",
     "status": "completed"
    },
    "tags": []
   },
   "outputs": [],
   "source": [
    "X = X.iloc[:,1:]\n",
    "X_test = X_test.iloc[:,1:]"
   ]
  },
  {
   "cell_type": "markdown",
   "id": "00cc4d8b",
   "metadata": {
    "papermill": {
     "duration": 0.055992,
     "end_time": "2022-02-28T17:24:29.164439",
     "exception": false,
     "start_time": "2022-02-28T17:24:29.108447",
     "status": "completed"
    },
    "tags": []
   },
   "source": [
    "Scaling the output features"
   ]
  },
  {
   "cell_type": "code",
   "execution_count": 18,
   "id": "5b9528a7",
   "metadata": {
    "execution": {
     "iopub.execute_input": "2022-02-28T17:24:29.284921Z",
     "iopub.status.busy": "2022-02-28T17:24:29.284072Z",
     "iopub.status.idle": "2022-02-28T17:24:29.293835Z",
     "shell.execute_reply": "2022-02-28T17:24:29.294215Z",
     "shell.execute_reply.started": "2022-02-28T17:18:12.804919Z"
    },
    "papermill": {
     "duration": 0.073353,
     "end_time": "2022-02-28T17:24:29.294367",
     "exception": false,
     "start_time": "2022-02-28T17:24:29.221014",
     "status": "completed"
    },
    "tags": []
   },
   "outputs": [],
   "source": [
    "scaler = StandardScaler()\n",
    "Y = scaler.fit_transform(Y.values.reshape(-1,1))\n",
    "Y_test = scaler.transform(Y_test.values.reshape(-1,1))"
   ]
  },
  {
   "cell_type": "markdown",
   "id": "2ba5b906",
   "metadata": {
    "papermill": {
     "duration": 0.054951,
     "end_time": "2022-02-28T17:24:29.405954",
     "exception": false,
     "start_time": "2022-02-28T17:24:29.351003",
     "status": "completed"
    },
    "tags": []
   },
   "source": [
    "Linear Regression"
   ]
  },
  {
   "cell_type": "code",
   "execution_count": 19,
   "id": "f73db577",
   "metadata": {
    "execution": {
     "iopub.execute_input": "2022-02-28T17:24:29.480903Z",
     "iopub.status.busy": "2022-02-28T17:24:29.480337Z",
     "iopub.status.idle": "2022-02-28T17:24:32.925682Z",
     "shell.execute_reply": "2022-02-28T17:24:32.925244Z",
     "shell.execute_reply.started": "2022-02-28T17:18:12.824528Z"
    },
    "papermill": {
     "duration": 3.485499,
     "end_time": "2022-02-28T17:24:32.925804",
     "exception": false,
     "start_time": "2022-02-28T17:24:29.440305",
     "status": "completed"
    },
    "tags": []
   },
   "outputs": [
    {
     "name": "stdout",
     "output_type": "stream",
     "text": [
      "1.1928433969410055 0.8054302101538378 0.44103453289820493\n"
     ]
    }
   ],
   "source": [
    "from cuml import LinearRegression\n",
    "from cuml.linear_model import LinearRegression\n",
    "X_new = cd.DataFrame(X)\n",
    "Y_new = cd.DataFrame(Y)\n",
    "lr = LinearRegression(fit_intercept = False,algorithm = \"svd\")\n",
    "reg = lr.fit(X_new,Y_new)\n",
    "preds = lr.predict(X_test)\n",
    "from cuml.metrics import mean_squared_error\n",
    "from cuml.metrics import mean_absolute_error\n",
    "from cuml.metrics import r2_score\n",
    "MSE = mean_squared_error(Y_test,preds)\n",
    "MAE = mean_absolute_error(Y_test,preds)\n",
    "R2 = r2_score(Y_test,preds)\n",
    "print(MSE,MAE,R2)"
   ]
  },
  {
   "cell_type": "markdown",
   "id": "401fd741",
   "metadata": {
    "papermill": {
     "duration": 0.035173,
     "end_time": "2022-02-28T17:24:32.995621",
     "exception": false,
     "start_time": "2022-02-28T17:24:32.960448",
     "status": "completed"
    },
    "tags": []
   },
   "source": [
    "Logistic Regression"
   ]
  },
  {
   "cell_type": "code",
   "execution_count": 20,
   "id": "854641a1",
   "metadata": {
    "execution": {
     "iopub.execute_input": "2022-02-28T17:24:33.072144Z",
     "iopub.status.busy": "2022-02-28T17:24:33.071518Z",
     "iopub.status.idle": "2022-02-28T17:24:34.093318Z",
     "shell.execute_reply": "2022-02-28T17:24:34.092724Z",
     "shell.execute_reply.started": "2022-02-28T17:18:16.233765Z"
    },
    "papermill": {
     "duration": 1.062564,
     "end_time": "2022-02-28T17:24:34.093460",
     "exception": false,
     "start_time": "2022-02-28T17:24:33.030896",
     "status": "completed"
    },
    "tags": []
   },
   "outputs": [
    {
     "name": "stdout",
     "output_type": "stream",
     "text": [
      "[W] [17:24:34.076921] L-BFGS stopped, because the line search failed to advance (step delta = 0.000000)\n",
      "0.7575460208875798 0.5640392590625964 -0.0010559335664261926\n"
     ]
    }
   ],
   "source": [
    "from cuml.linear_model import LogisticRegression\n",
    "reg = LogisticRegression()\n",
    "reg.fit(X,Y)\n",
    "preds = reg.predict(X_test)\n",
    "from cuml.metrics import mean_squared_error\n",
    "from cuml.metrics import mean_absolute_error\n",
    "from cuml.metrics import r2_score\n",
    "MSE = mean_squared_error(Y_test,preds)\n",
    "MAE = mean_absolute_error(Y_test,preds)\n",
    "R2 = r2_score(Y_test,preds)\n",
    "print(MSE,MAE,R2)"
   ]
  },
  {
   "cell_type": "markdown",
   "id": "73f3982b",
   "metadata": {
    "papermill": {
     "duration": 0.039065,
     "end_time": "2022-02-28T17:24:34.171456",
     "exception": false,
     "start_time": "2022-02-28T17:24:34.132391",
     "status": "completed"
    },
    "tags": []
   },
   "source": [
    "Ridge Regression"
   ]
  },
  {
   "cell_type": "code",
   "execution_count": 21,
   "id": "8969ebd5",
   "metadata": {
    "execution": {
     "iopub.execute_input": "2022-02-28T17:24:34.262086Z",
     "iopub.status.busy": "2022-02-28T17:24:34.261177Z",
     "iopub.status.idle": "2022-02-28T17:24:34.298091Z",
     "shell.execute_reply": "2022-02-28T17:24:34.298593Z",
     "shell.execute_reply.started": "2022-02-28T17:18:17.339932Z"
    },
    "papermill": {
     "duration": 0.085705,
     "end_time": "2022-02-28T17:24:34.298787",
     "exception": false,
     "start_time": "2022-02-28T17:24:34.213082",
     "status": "completed"
    },
    "tags": []
   },
   "outputs": [
    {
     "name": "stdout",
     "output_type": "stream",
     "text": [
      "1.1927570325453327 0.8053960301954505 0.4410489533860319\n"
     ]
    }
   ],
   "source": [
    "from cuml import Ridge\n",
    "from cuml.linear_model import Ridge\n",
    "ridge = Ridge(alpha=0.5,fit_intercept = True, normalize = False,solver = \"svd\")\n",
    "result_ridge = ridge.fit(X, Y)\n",
    "preds = result_ridge.predict(X_test)\n",
    "from cuml.metrics import mean_squared_error\n",
    "from cuml.metrics import mean_absolute_error\n",
    "from cuml.metrics import r2_score\n",
    "MSE = mean_squared_error(Y_test,preds)\n",
    "MAE = mean_absolute_error(Y_test,preds)\n",
    "R2 = r2_score(Y_test,preds)\n",
    "print(MSE,MAE,R2)"
   ]
  },
  {
   "cell_type": "markdown",
   "id": "58be8540",
   "metadata": {
    "papermill": {
     "duration": 0.040114,
     "end_time": "2022-02-28T17:24:34.380826",
     "exception": false,
     "start_time": "2022-02-28T17:24:34.340712",
     "status": "completed"
    },
    "tags": []
   },
   "source": [
    "Lasso Regression"
   ]
  },
  {
   "cell_type": "code",
   "execution_count": 22,
   "id": "e27b4aba",
   "metadata": {
    "execution": {
     "iopub.execute_input": "2022-02-28T17:24:34.468717Z",
     "iopub.status.busy": "2022-02-28T17:24:34.467867Z",
     "iopub.status.idle": "2022-02-28T17:24:34.513769Z",
     "shell.execute_reply": "2022-02-28T17:24:34.514247Z",
     "shell.execute_reply.started": "2022-02-28T17:18:17.383577Z"
    },
    "papermill": {
     "duration": 0.092868,
     "end_time": "2022-02-28T17:24:34.514412",
     "exception": false,
     "start_time": "2022-02-28T17:24:34.421544",
     "status": "completed"
    },
    "tags": []
   },
   "outputs": [
    {
     "name": "stdout",
     "output_type": "stream",
     "text": [
      "1.091954858146822 0.7659266108644431 0.43059751078366393\n"
     ]
    }
   ],
   "source": [
    "from cuml.linear_model import Lasso\n",
    "ls = Lasso(alpha = 0.05)\n",
    "result_lasso = ls.fit(X, Y)\n",
    "preds = result_lasso.predict(X_test)\n",
    "from cuml.metrics import mean_squared_error\n",
    "from cuml.metrics import mean_absolute_error\n",
    "from cuml.metrics import r2_score\n",
    "MSE = mean_squared_error(Y_test,preds)\n",
    "MAE = mean_absolute_error(Y_test,preds)\n",
    "R2 = r2_score(Y_test,preds)\n",
    "print(MSE,MAE,R2)"
   ]
  },
  {
   "cell_type": "markdown",
   "id": "bda62b08",
   "metadata": {
    "papermill": {
     "duration": 0.035602,
     "end_time": "2022-02-28T17:24:34.588344",
     "exception": false,
     "start_time": "2022-02-28T17:24:34.552742",
     "status": "completed"
    },
    "tags": []
   },
   "source": [
    "ElasticNet Regression"
   ]
  },
  {
   "cell_type": "code",
   "execution_count": 23,
   "id": "d72a5046",
   "metadata": {
    "execution": {
     "iopub.execute_input": "2022-02-28T17:24:34.668794Z",
     "iopub.status.busy": "2022-02-28T17:24:34.667965Z",
     "iopub.status.idle": "2022-02-28T17:24:34.712237Z",
     "shell.execute_reply": "2022-02-28T17:24:34.711805Z",
     "shell.execute_reply.started": "2022-02-28T17:18:17.437025Z"
    },
    "papermill": {
     "duration": 0.088004,
     "end_time": "2022-02-28T17:24:34.712365",
     "exception": false,
     "start_time": "2022-02-28T17:24:34.624361",
     "status": "completed"
    },
    "tags": []
   },
   "outputs": [
    {
     "name": "stdout",
     "output_type": "stream",
     "text": [
      "1.0652551763904476 0.752706497785181 0.4349586609430577\n"
     ]
    }
   ],
   "source": [
    "from cuml.linear_model import ElasticNet\n",
    "enet = ElasticNet(alpha = 0.3, l1_ratio=0.1)\n",
    "result_enet = enet.fit(X, Y)\n",
    "preds = result_enet.predict(X_test)\n",
    "from cuml.metrics import mean_squared_error\n",
    "from cuml.metrics import mean_absolute_error\n",
    "from cuml.metrics import r2_score\n",
    "MSE = mean_squared_error(Y_test,preds)\n",
    "MAE = mean_absolute_error(Y_test,preds)\n",
    "R2 = r2_score(Y_test,preds)\n",
    "print(MSE,MAE,R2)"
   ]
  }
 ],
 "metadata": {
  "kernelspec": {
   "display_name": "Python 3",
   "language": "python",
   "name": "python3"
  },
  "language_info": {
   "codemirror_mode": {
    "name": "ipython",
    "version": 3
   },
   "file_extension": ".py",
   "mimetype": "text/x-python",
   "name": "python",
   "nbconvert_exporter": "python",
   "pygments_lexer": "ipython3",
   "version": "3.7.12"
  },
  "papermill": {
   "default_parameters": {},
   "duration": 58.255591,
   "end_time": "2022-02-28T17:24:36.160014",
   "environment_variables": {},
   "exception": null,
   "input_path": "__notebook__.ipynb",
   "output_path": "__notebook__.ipynb",
   "parameters": {},
   "start_time": "2022-02-28T17:23:37.904423",
   "version": "2.3.3"
  }
 },
 "nbformat": 4,
 "nbformat_minor": 5
}
