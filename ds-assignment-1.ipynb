{
 "cells": [
  {
   "cell_type": "code",
   "execution_count": 1,
   "id": "7a576953",
   "metadata": {
    "_cell_guid": "b1076dfc-b9ad-4769-8c92-a6c4dae69d19",
    "_uuid": "8f2839f25d086af736a60e9eeb907d3b93b6e0e5",
    "execution": {
     "iopub.execute_input": "2022-02-28T18:13:53.297495Z",
     "iopub.status.busy": "2022-02-28T18:13:53.295801Z",
     "iopub.status.idle": "2022-02-28T18:13:53.309057Z",
     "shell.execute_reply": "2022-02-28T18:13:53.309710Z",
     "shell.execute_reply.started": "2022-02-28T18:10:09.179881Z"
    },
    "papermill": {
     "duration": 0.05368,
     "end_time": "2022-02-28T18:13:53.310020",
     "exception": false,
     "start_time": "2022-02-28T18:13:53.256340",
     "status": "completed"
    },
    "tags": []
   },
   "outputs": [
    {
     "name": "stdout",
     "output_type": "stream",
     "text": [
      "/kaggle/input/house-prices-advanced-regression-techniques/sample_submission.csv\n",
      "/kaggle/input/house-prices-advanced-regression-techniques/data_description.txt\n",
      "/kaggle/input/house-prices-advanced-regression-techniques/train.csv\n",
      "/kaggle/input/house-prices-advanced-regression-techniques/test.csv\n"
     ]
    }
   ],
   "source": [
    "# Input data files are available in the read-only \"../input/\" directory\n",
    "# For example, running this (by clicking run or pressing Shift+Enter) will list all files under the input directory\n",
    "\n",
    "import os\n",
    "for dirname, _, filenames in os.walk('/kaggle/input'):\n",
    "    for filename in filenames:\n",
    "        print(os.path.join(dirname, filename))\n",
    "\n",
    "# You can write up to 20GB to the current directory (/kaggle/working/) that gets preserved as output when you create a version using \"Save & Run All\" \n",
    "# You can also write temporary files to /kaggle/temp/, but they won't be saved outside of the current session"
   ]
  },
  {
   "cell_type": "code",
   "execution_count": 2,
   "id": "ff38fe7c",
   "metadata": {
    "execution": {
     "iopub.execute_input": "2022-02-28T18:13:53.391305Z",
     "iopub.status.busy": "2022-02-28T18:13:53.390607Z",
     "iopub.status.idle": "2022-02-28T18:13:56.769548Z",
     "shell.execute_reply": "2022-02-28T18:13:56.768567Z",
     "shell.execute_reply.started": "2022-02-28T18:10:09.492002Z"
    },
    "papermill": {
     "duration": 3.419949,
     "end_time": "2022-02-28T18:13:56.769702",
     "exception": false,
     "start_time": "2022-02-28T18:13:53.349753",
     "status": "completed"
    },
    "tags": []
   },
   "outputs": [],
   "source": [
    "import cudf as pd\n",
    "import cupy as np\n",
    "from sklearn.model_selection import cross_val_score\n",
    "import numpy"
   ]
  },
  {
   "cell_type": "markdown",
   "id": "26a42dc8",
   "metadata": {
    "papermill": {
     "duration": 0.039009,
     "end_time": "2022-02-28T18:13:56.849275",
     "exception": false,
     "start_time": "2022-02-28T18:13:56.810266",
     "status": "completed"
    },
    "tags": []
   },
   "source": [
    "## Importing the data"
   ]
  },
  {
   "cell_type": "code",
   "execution_count": 3,
   "id": "21b25847",
   "metadata": {
    "execution": {
     "iopub.execute_input": "2022-02-28T18:13:56.926095Z",
     "iopub.status.busy": "2022-02-28T18:13:56.925525Z",
     "iopub.status.idle": "2022-02-28T18:13:59.200579Z",
     "shell.execute_reply": "2022-02-28T18:13:59.200998Z",
     "shell.execute_reply.started": "2022-02-28T18:10:12.977913Z"
    },
    "papermill": {
     "duration": 2.314634,
     "end_time": "2022-02-28T18:13:59.201162",
     "exception": false,
     "start_time": "2022-02-28T18:13:56.886528",
     "status": "completed"
    },
    "tags": []
   },
   "outputs": [
    {
     "data": {
      "text/html": [
       "<div>\n",
       "<style scoped>\n",
       "    .dataframe tbody tr th:only-of-type {\n",
       "        vertical-align: middle;\n",
       "    }\n",
       "\n",
       "    .dataframe tbody tr th {\n",
       "        vertical-align: top;\n",
       "    }\n",
       "\n",
       "    .dataframe thead th {\n",
       "        text-align: right;\n",
       "    }\n",
       "</style>\n",
       "<table border=\"1\" class=\"dataframe\">\n",
       "  <thead>\n",
       "    <tr style=\"text-align: right;\">\n",
       "      <th></th>\n",
       "      <th>Id</th>\n",
       "      <th>MSSubClass</th>\n",
       "      <th>MSZoning</th>\n",
       "      <th>LotFrontage</th>\n",
       "      <th>LotArea</th>\n",
       "      <th>Street</th>\n",
       "      <th>Alley</th>\n",
       "      <th>LotShape</th>\n",
       "      <th>LandContour</th>\n",
       "      <th>Utilities</th>\n",
       "      <th>...</th>\n",
       "      <th>PoolArea</th>\n",
       "      <th>PoolQC</th>\n",
       "      <th>Fence</th>\n",
       "      <th>MiscFeature</th>\n",
       "      <th>MiscVal</th>\n",
       "      <th>MoSold</th>\n",
       "      <th>YrSold</th>\n",
       "      <th>SaleType</th>\n",
       "      <th>SaleCondition</th>\n",
       "      <th>SalePrice</th>\n",
       "    </tr>\n",
       "  </thead>\n",
       "  <tbody>\n",
       "    <tr>\n",
       "      <th>0</th>\n",
       "      <td>1</td>\n",
       "      <td>60</td>\n",
       "      <td>RL</td>\n",
       "      <td>65.0</td>\n",
       "      <td>8450</td>\n",
       "      <td>Pave</td>\n",
       "      <td>&lt;NA&gt;</td>\n",
       "      <td>Reg</td>\n",
       "      <td>Lvl</td>\n",
       "      <td>AllPub</td>\n",
       "      <td>...</td>\n",
       "      <td>0</td>\n",
       "      <td>&lt;NA&gt;</td>\n",
       "      <td>&lt;NA&gt;</td>\n",
       "      <td>&lt;NA&gt;</td>\n",
       "      <td>0</td>\n",
       "      <td>2</td>\n",
       "      <td>2008</td>\n",
       "      <td>WD</td>\n",
       "      <td>Normal</td>\n",
       "      <td>208500</td>\n",
       "    </tr>\n",
       "    <tr>\n",
       "      <th>1</th>\n",
       "      <td>2</td>\n",
       "      <td>20</td>\n",
       "      <td>RL</td>\n",
       "      <td>80.0</td>\n",
       "      <td>9600</td>\n",
       "      <td>Pave</td>\n",
       "      <td>&lt;NA&gt;</td>\n",
       "      <td>Reg</td>\n",
       "      <td>Lvl</td>\n",
       "      <td>AllPub</td>\n",
       "      <td>...</td>\n",
       "      <td>0</td>\n",
       "      <td>&lt;NA&gt;</td>\n",
       "      <td>&lt;NA&gt;</td>\n",
       "      <td>&lt;NA&gt;</td>\n",
       "      <td>0</td>\n",
       "      <td>5</td>\n",
       "      <td>2007</td>\n",
       "      <td>WD</td>\n",
       "      <td>Normal</td>\n",
       "      <td>181500</td>\n",
       "    </tr>\n",
       "    <tr>\n",
       "      <th>2</th>\n",
       "      <td>3</td>\n",
       "      <td>60</td>\n",
       "      <td>RL</td>\n",
       "      <td>68.0</td>\n",
       "      <td>11250</td>\n",
       "      <td>Pave</td>\n",
       "      <td>&lt;NA&gt;</td>\n",
       "      <td>IR1</td>\n",
       "      <td>Lvl</td>\n",
       "      <td>AllPub</td>\n",
       "      <td>...</td>\n",
       "      <td>0</td>\n",
       "      <td>&lt;NA&gt;</td>\n",
       "      <td>&lt;NA&gt;</td>\n",
       "      <td>&lt;NA&gt;</td>\n",
       "      <td>0</td>\n",
       "      <td>9</td>\n",
       "      <td>2008</td>\n",
       "      <td>WD</td>\n",
       "      <td>Normal</td>\n",
       "      <td>223500</td>\n",
       "    </tr>\n",
       "    <tr>\n",
       "      <th>3</th>\n",
       "      <td>4</td>\n",
       "      <td>70</td>\n",
       "      <td>RL</td>\n",
       "      <td>60.0</td>\n",
       "      <td>9550</td>\n",
       "      <td>Pave</td>\n",
       "      <td>&lt;NA&gt;</td>\n",
       "      <td>IR1</td>\n",
       "      <td>Lvl</td>\n",
       "      <td>AllPub</td>\n",
       "      <td>...</td>\n",
       "      <td>0</td>\n",
       "      <td>&lt;NA&gt;</td>\n",
       "      <td>&lt;NA&gt;</td>\n",
       "      <td>&lt;NA&gt;</td>\n",
       "      <td>0</td>\n",
       "      <td>2</td>\n",
       "      <td>2006</td>\n",
       "      <td>WD</td>\n",
       "      <td>Abnorml</td>\n",
       "      <td>140000</td>\n",
       "    </tr>\n",
       "    <tr>\n",
       "      <th>4</th>\n",
       "      <td>5</td>\n",
       "      <td>60</td>\n",
       "      <td>RL</td>\n",
       "      <td>84.0</td>\n",
       "      <td>14260</td>\n",
       "      <td>Pave</td>\n",
       "      <td>&lt;NA&gt;</td>\n",
       "      <td>IR1</td>\n",
       "      <td>Lvl</td>\n",
       "      <td>AllPub</td>\n",
       "      <td>...</td>\n",
       "      <td>0</td>\n",
       "      <td>&lt;NA&gt;</td>\n",
       "      <td>&lt;NA&gt;</td>\n",
       "      <td>&lt;NA&gt;</td>\n",
       "      <td>0</td>\n",
       "      <td>12</td>\n",
       "      <td>2008</td>\n",
       "      <td>WD</td>\n",
       "      <td>Normal</td>\n",
       "      <td>250000</td>\n",
       "    </tr>\n",
       "  </tbody>\n",
       "</table>\n",
       "<p>5 rows × 81 columns</p>\n",
       "</div>"
      ],
      "text/plain": [
       "   Id  MSSubClass MSZoning  LotFrontage  LotArea Street Alley LotShape  \\\n",
       "0   1          60       RL         65.0     8450   Pave  <NA>      Reg   \n",
       "1   2          20       RL         80.0     9600   Pave  <NA>      Reg   \n",
       "2   3          60       RL         68.0    11250   Pave  <NA>      IR1   \n",
       "3   4          70       RL         60.0     9550   Pave  <NA>      IR1   \n",
       "4   5          60       RL         84.0    14260   Pave  <NA>      IR1   \n",
       "\n",
       "  LandContour Utilities  ... PoolArea  PoolQC Fence MiscFeature MiscVal  \\\n",
       "0         Lvl    AllPub  ...        0    <NA>  <NA>        <NA>       0   \n",
       "1         Lvl    AllPub  ...        0    <NA>  <NA>        <NA>       0   \n",
       "2         Lvl    AllPub  ...        0    <NA>  <NA>        <NA>       0   \n",
       "3         Lvl    AllPub  ...        0    <NA>  <NA>        <NA>       0   \n",
       "4         Lvl    AllPub  ...        0    <NA>  <NA>        <NA>       0   \n",
       "\n",
       "   MoSold  YrSold  SaleType SaleCondition SalePrice  \n",
       "0       2    2008        WD        Normal    208500  \n",
       "1       5    2007        WD        Normal    181500  \n",
       "2       9    2008        WD        Normal    223500  \n",
       "3       2    2006        WD       Abnorml    140000  \n",
       "4      12    2008        WD        Normal    250000  \n",
       "\n",
       "[5 rows x 81 columns]"
      ]
     },
     "execution_count": 3,
     "metadata": {},
     "output_type": "execute_result"
    }
   ],
   "source": [
    "train_df = pd.read_csv('/kaggle/input/house-prices-advanced-regression-techniques/train.csv')\n",
    "test_df = pd.read_csv('/kaggle/input/house-prices-advanced-regression-techniques/test.csv')\n",
    "train_df.head(5)"
   ]
  },
  {
   "cell_type": "code",
   "execution_count": 4,
   "id": "644e6d25",
   "metadata": {
    "execution": {
     "iopub.execute_input": "2022-02-28T18:13:59.278583Z",
     "iopub.status.busy": "2022-02-28T18:13:59.277934Z",
     "iopub.status.idle": "2022-02-28T18:13:59.280427Z",
     "shell.execute_reply": "2022-02-28T18:13:59.280824Z",
     "shell.execute_reply.started": "2022-02-28T18:10:29.456823Z"
    },
    "papermill": {
     "duration": 0.04419,
     "end_time": "2022-02-28T18:13:59.280960",
     "exception": false,
     "start_time": "2022-02-28T18:13:59.236770",
     "status": "completed"
    },
    "tags": []
   },
   "outputs": [
    {
     "data": {
      "text/plain": [
       "81"
      ]
     },
     "execution_count": 4,
     "metadata": {},
     "output_type": "execute_result"
    }
   ],
   "source": [
    "len(train_df.columns)"
   ]
  },
  {
   "cell_type": "markdown",
   "id": "4dd06fab",
   "metadata": {
    "papermill": {
     "duration": 0.036123,
     "end_time": "2022-02-28T18:13:59.352779",
     "exception": false,
     "start_time": "2022-02-28T18:13:59.316656",
     "status": "completed"
    },
    "tags": []
   },
   "source": [
    "## Data Cleaning"
   ]
  },
  {
   "cell_type": "code",
   "execution_count": 5,
   "id": "be5e2d45",
   "metadata": {
    "execution": {
     "iopub.execute_input": "2022-02-28T18:13:59.428877Z",
     "iopub.status.busy": "2022-02-28T18:13:59.428258Z",
     "iopub.status.idle": "2022-02-28T18:13:59.430882Z",
     "shell.execute_reply": "2022-02-28T18:13:59.431275Z",
     "shell.execute_reply.started": "2022-02-28T18:10:30.306603Z"
    },
    "papermill": {
     "duration": 0.043062,
     "end_time": "2022-02-28T18:13:59.431389",
     "exception": false,
     "start_time": "2022-02-28T18:13:59.388327",
     "status": "completed"
    },
    "tags": []
   },
   "outputs": [
    {
     "data": {
      "text/plain": [
       "(1460, 81)"
      ]
     },
     "execution_count": 5,
     "metadata": {},
     "output_type": "execute_result"
    }
   ],
   "source": [
    "train_df.shape"
   ]
  },
  {
   "cell_type": "code",
   "execution_count": 6,
   "id": "26bbd8c5",
   "metadata": {
    "execution": {
     "iopub.execute_input": "2022-02-28T18:13:59.509536Z",
     "iopub.status.busy": "2022-02-28T18:13:59.508797Z",
     "iopub.status.idle": "2022-02-28T18:13:59.560631Z",
     "shell.execute_reply": "2022-02-28T18:13:59.559419Z",
     "shell.execute_reply.started": "2022-02-28T18:10:30.649135Z"
    },
    "papermill": {
     "duration": 0.09371,
     "end_time": "2022-02-28T18:13:59.560915",
     "exception": false,
     "start_time": "2022-02-28T18:13:59.467205",
     "status": "completed"
    },
    "tags": []
   },
   "outputs": [
    {
     "name": "stdout",
     "output_type": "stream",
     "text": [
      "<class 'cudf.core.dataframe.DataFrame'>\n",
      "RangeIndex: 1460 entries, 0 to 1459\n",
      "Data columns (total 81 columns):\n",
      " #   Column         Non-Null Count  Dtype\n",
      "---  ------         --------------  -----\n",
      " 0   Id             1460 non-null   int64\n",
      " 1   MSSubClass     1460 non-null   int64\n",
      " 2   MSZoning       1460 non-null   object\n",
      " 3   LotFrontage    1201 non-null   float64\n",
      " 4   LotArea        1460 non-null   int64\n",
      " 5   Street         1460 non-null   object\n",
      " 6   Alley          91 non-null     object\n",
      " 7   LotShape       1460 non-null   object\n",
      " 8   LandContour    1460 non-null   object\n",
      " 9   Utilities      1460 non-null   object\n",
      " 10  LotConfig      1460 non-null   object\n",
      " 11  LandSlope      1460 non-null   object\n",
      " 12  Neighborhood   1460 non-null   object\n",
      " 13  Condition1     1460 non-null   object\n",
      " 14  Condition2     1460 non-null   object\n",
      " 15  BldgType       1460 non-null   object\n",
      " 16  HouseStyle     1460 non-null   object\n",
      " 17  OverallQual    1460 non-null   int64\n",
      " 18  OverallCond    1460 non-null   int64\n",
      " 19  YearBuilt      1460 non-null   int64\n",
      " 20  YearRemodAdd   1460 non-null   int64\n",
      " 21  RoofStyle      1460 non-null   object\n",
      " 22  RoofMatl       1460 non-null   object\n",
      " 23  Exterior1st    1460 non-null   object\n",
      " 24  Exterior2nd    1460 non-null   object\n",
      " 25  MasVnrType     1452 non-null   object\n",
      " 26  MasVnrArea     1452 non-null   float64\n",
      " 27  ExterQual      1460 non-null   object\n",
      " 28  ExterCond      1460 non-null   object\n",
      " 29  Foundation     1460 non-null   object\n",
      " 30  BsmtQual       1423 non-null   object\n",
      " 31  BsmtCond       1423 non-null   object\n",
      " 32  BsmtExposure   1422 non-null   object\n",
      " 33  BsmtFinType1   1423 non-null   object\n",
      " 34  BsmtFinSF1     1460 non-null   int64\n",
      " 35  BsmtFinType2   1422 non-null   object\n",
      " 36  BsmtFinSF2     1460 non-null   int64\n",
      " 37  BsmtUnfSF      1460 non-null   int64\n",
      " 38  TotalBsmtSF    1460 non-null   int64\n",
      " 39  Heating        1460 non-null   object\n",
      " 40  HeatingQC      1460 non-null   object\n",
      " 41  CentralAir     1460 non-null   object\n",
      " 42  Electrical     1459 non-null   object\n",
      " 43  1stFlrSF       1460 non-null   int64\n",
      " 44  2ndFlrSF       1460 non-null   int64\n",
      " 45  LowQualFinSF   1460 non-null   int64\n",
      " 46  GrLivArea      1460 non-null   int64\n",
      " 47  BsmtFullBath   1460 non-null   int64\n",
      " 48  BsmtHalfBath   1460 non-null   int64\n",
      " 49  FullBath       1460 non-null   int64\n",
      " 50  HalfBath       1460 non-null   int64\n",
      " 51  BedroomAbvGr   1460 non-null   int64\n",
      " 52  KitchenAbvGr   1460 non-null   int64\n",
      " 53  KitchenQual    1460 non-null   object\n",
      " 54  TotRmsAbvGrd   1460 non-null   int64\n",
      " 55  Functional     1460 non-null   object\n",
      " 56  Fireplaces     1460 non-null   int64\n",
      " 57  FireplaceQu    770 non-null    object\n",
      " 58  GarageType     1379 non-null   object\n",
      " 59  GarageYrBlt    1379 non-null   float64\n",
      " 60  GarageFinish   1379 non-null   object\n",
      " 61  GarageCars     1460 non-null   int64\n",
      " 62  GarageArea     1460 non-null   int64\n",
      " 63  GarageQual     1379 non-null   object\n",
      " 64  GarageCond     1379 non-null   object\n",
      " 65  PavedDrive     1460 non-null   object\n",
      " 66  WoodDeckSF     1460 non-null   int64\n",
      " 67  OpenPorchSF    1460 non-null   int64\n",
      " 68  EnclosedPorch  1460 non-null   int64\n",
      " 69  3SsnPorch      1460 non-null   int64\n",
      " 70  ScreenPorch    1460 non-null   int64\n",
      " 71  PoolArea       1460 non-null   int64\n",
      " 72  PoolQC         7 non-null      object\n",
      " 73  Fence          281 non-null    object\n",
      " 74  MiscFeature    54 non-null     object\n",
      " 75  MiscVal        1460 non-null   int64\n",
      " 76  MoSold         1460 non-null   int64\n",
      " 77  YrSold         1460 non-null   int64\n",
      " 78  SaleType       1460 non-null   object\n",
      " 79  SaleCondition  1460 non-null   object\n",
      " 80  SalePrice      1460 non-null   int64\n",
      "dtypes: float64(3), int64(35), object(43)\n",
      "memory usage: 888.7+ KB\n"
     ]
    }
   ],
   "source": [
    "train_df.info()"
   ]
  },
  {
   "cell_type": "markdown",
   "id": "8cfe2623",
   "metadata": {
    "papermill": {
     "duration": 0.035871,
     "end_time": "2022-02-28T18:13:59.633349",
     "exception": false,
     "start_time": "2022-02-28T18:13:59.597478",
     "status": "completed"
    },
    "tags": []
   },
   "source": [
    "## Filling Missing Values"
   ]
  },
  {
   "cell_type": "code",
   "execution_count": 7,
   "id": "e772afe2",
   "metadata": {
    "execution": {
     "iopub.execute_input": "2022-02-28T18:13:59.710706Z",
     "iopub.status.busy": "2022-02-28T18:13:59.710174Z",
     "iopub.status.idle": "2022-02-28T18:13:59.725414Z",
     "shell.execute_reply": "2022-02-28T18:13:59.724982Z",
     "shell.execute_reply.started": "2022-02-28T18:10:31.296833Z"
    },
    "papermill": {
     "duration": 0.055887,
     "end_time": "2022-02-28T18:13:59.725515",
     "exception": false,
     "start_time": "2022-02-28T18:13:59.669628",
     "status": "completed"
    },
    "tags": []
   },
   "outputs": [],
   "source": [
    "train_df['MasVnrArea'].fillna(train_df['MasVnrArea'].median(), inplace=True)\n",
    "train_df['BsmtFinType1'].fillna('Unknown', inplace=True)\n",
    "train_df['BsmtFinType2'].fillna('Unknown', inplace=True)"
   ]
  },
  {
   "cell_type": "code",
   "execution_count": 8,
   "id": "1a8ee2e9",
   "metadata": {
    "execution": {
     "iopub.execute_input": "2022-02-28T18:13:59.803048Z",
     "iopub.status.busy": "2022-02-28T18:13:59.800639Z",
     "iopub.status.idle": "2022-02-28T18:13:59.839296Z",
     "shell.execute_reply": "2022-02-28T18:13:59.839697Z",
     "shell.execute_reply.started": "2022-02-28T18:10:32.187029Z"
    },
    "papermill": {
     "duration": 0.07775,
     "end_time": "2022-02-28T18:13:59.839819",
     "exception": false,
     "start_time": "2022-02-28T18:13:59.762069",
     "status": "completed"
    },
    "tags": []
   },
   "outputs": [
    {
     "name": "stdout",
     "output_type": "stream",
     "text": [
      "<class 'cudf.core.dataframe.DataFrame'>\n",
      "RangeIndex: 1460 entries, 0 to 1459\n",
      "Data columns (total 81 columns):\n",
      " #   Column         Non-Null Count  Dtype\n",
      "---  ------         --------------  -----\n",
      " 0   Id             1460 non-null   int64\n",
      " 1   MSSubClass     1460 non-null   int64\n",
      " 2   MSZoning       1460 non-null   object\n",
      " 3   LotFrontage    1201 non-null   float64\n",
      " 4   LotArea        1460 non-null   int64\n",
      " 5   Street         1460 non-null   object\n",
      " 6   Alley          91 non-null     object\n",
      " 7   LotShape       1460 non-null   object\n",
      " 8   LandContour    1460 non-null   object\n",
      " 9   Utilities      1460 non-null   object\n",
      " 10  LotConfig      1460 non-null   object\n",
      " 11  LandSlope      1460 non-null   object\n",
      " 12  Neighborhood   1460 non-null   object\n",
      " 13  Condition1     1460 non-null   object\n",
      " 14  Condition2     1460 non-null   object\n",
      " 15  BldgType       1460 non-null   object\n",
      " 16  HouseStyle     1460 non-null   object\n",
      " 17  OverallQual    1460 non-null   int64\n",
      " 18  OverallCond    1460 non-null   int64\n",
      " 19  YearBuilt      1460 non-null   int64\n",
      " 20  YearRemodAdd   1460 non-null   int64\n",
      " 21  RoofStyle      1460 non-null   object\n",
      " 22  RoofMatl       1460 non-null   object\n",
      " 23  Exterior1st    1460 non-null   object\n",
      " 24  Exterior2nd    1460 non-null   object\n",
      " 25  MasVnrType     1452 non-null   object\n",
      " 26  MasVnrArea     1460 non-null   float64\n",
      " 27  ExterQual      1460 non-null   object\n",
      " 28  ExterCond      1460 non-null   object\n",
      " 29  Foundation     1460 non-null   object\n",
      " 30  BsmtQual       1423 non-null   object\n",
      " 31  BsmtCond       1423 non-null   object\n",
      " 32  BsmtExposure   1422 non-null   object\n",
      " 33  BsmtFinType1   1460 non-null   object\n",
      " 34  BsmtFinSF1     1460 non-null   int64\n",
      " 35  BsmtFinType2   1460 non-null   object\n",
      " 36  BsmtFinSF2     1460 non-null   int64\n",
      " 37  BsmtUnfSF      1460 non-null   int64\n",
      " 38  TotalBsmtSF    1460 non-null   int64\n",
      " 39  Heating        1460 non-null   object\n",
      " 40  HeatingQC      1460 non-null   object\n",
      " 41  CentralAir     1460 non-null   object\n",
      " 42  Electrical     1459 non-null   object\n",
      " 43  1stFlrSF       1460 non-null   int64\n",
      " 44  2ndFlrSF       1460 non-null   int64\n",
      " 45  LowQualFinSF   1460 non-null   int64\n",
      " 46  GrLivArea      1460 non-null   int64\n",
      " 47  BsmtFullBath   1460 non-null   int64\n",
      " 48  BsmtHalfBath   1460 non-null   int64\n",
      " 49  FullBath       1460 non-null   int64\n",
      " 50  HalfBath       1460 non-null   int64\n",
      " 51  BedroomAbvGr   1460 non-null   int64\n",
      " 52  KitchenAbvGr   1460 non-null   int64\n",
      " 53  KitchenQual    1460 non-null   object\n",
      " 54  TotRmsAbvGrd   1460 non-null   int64\n",
      " 55  Functional     1460 non-null   object\n",
      " 56  Fireplaces     1460 non-null   int64\n",
      " 57  FireplaceQu    770 non-null    object\n",
      " 58  GarageType     1379 non-null   object\n",
      " 59  GarageYrBlt    1379 non-null   float64\n",
      " 60  GarageFinish   1379 non-null   object\n",
      " 61  GarageCars     1460 non-null   int64\n",
      " 62  GarageArea     1460 non-null   int64\n",
      " 63  GarageQual     1379 non-null   object\n",
      " 64  GarageCond     1379 non-null   object\n",
      " 65  PavedDrive     1460 non-null   object\n",
      " 66  WoodDeckSF     1460 non-null   int64\n",
      " 67  OpenPorchSF    1460 non-null   int64\n",
      " 68  EnclosedPorch  1460 non-null   int64\n",
      " 69  3SsnPorch      1460 non-null   int64\n",
      " 70  ScreenPorch    1460 non-null   int64\n",
      " 71  PoolArea       1460 non-null   int64\n",
      " 72  PoolQC         7 non-null      object\n",
      " 73  Fence          281 non-null    object\n",
      " 74  MiscFeature    54 non-null     object\n",
      " 75  MiscVal        1460 non-null   int64\n",
      " 76  MoSold         1460 non-null   int64\n",
      " 77  YrSold         1460 non-null   int64\n",
      " 78  SaleType       1460 non-null   object\n",
      " 79  SaleCondition  1460 non-null   object\n",
      " 80  SalePrice      1460 non-null   int64\n",
      "dtypes: float64(3), int64(35), object(43)\n",
      "memory usage: 888.5+ KB\n"
     ]
    }
   ],
   "source": [
    "train_df.info()"
   ]
  },
  {
   "cell_type": "code",
   "execution_count": 9,
   "id": "f69b28aa",
   "metadata": {
    "execution": {
     "iopub.execute_input": "2022-02-28T18:13:59.922286Z",
     "iopub.status.busy": "2022-02-28T18:13:59.921418Z",
     "iopub.status.idle": "2022-02-28T18:13:59.925024Z",
     "shell.execute_reply": "2022-02-28T18:13:59.924487Z",
     "shell.execute_reply.started": "2022-02-28T18:10:32.381579Z"
    },
    "papermill": {
     "duration": 0.045836,
     "end_time": "2022-02-28T18:13:59.925141",
     "exception": false,
     "start_time": "2022-02-28T18:13:59.879305",
     "status": "completed"
    },
    "tags": []
   },
   "outputs": [
    {
     "data": {
      "text/plain": [
       "(1459, 80)"
      ]
     },
     "execution_count": 9,
     "metadata": {},
     "output_type": "execute_result"
    }
   ],
   "source": [
    "test_df.shape"
   ]
  },
  {
   "cell_type": "code",
   "execution_count": 10,
   "id": "863031d9",
   "metadata": {
    "execution": {
     "iopub.execute_input": "2022-02-28T18:14:00.015548Z",
     "iopub.status.busy": "2022-02-28T18:14:00.014778Z",
     "iopub.status.idle": "2022-02-28T18:14:00.059872Z",
     "shell.execute_reply": "2022-02-28T18:14:00.060311Z",
     "shell.execute_reply.started": "2022-02-28T18:10:32.542097Z"
    },
    "papermill": {
     "duration": 0.094773,
     "end_time": "2022-02-28T18:14:00.060441",
     "exception": false,
     "start_time": "2022-02-28T18:13:59.965668",
     "status": "completed"
    },
    "tags": []
   },
   "outputs": [
    {
     "name": "stdout",
     "output_type": "stream",
     "text": [
      "<class 'cudf.core.dataframe.DataFrame'>\n",
      "RangeIndex: 1459 entries, 0 to 1458\n",
      "Data columns (total 80 columns):\n",
      " #   Column         Non-Null Count  Dtype\n",
      "---  ------         --------------  -----\n",
      " 0   Id             1459 non-null   int64\n",
      " 1   MSSubClass     1459 non-null   int64\n",
      " 2   MSZoning       1455 non-null   object\n",
      " 3   LotFrontage    1232 non-null   float64\n",
      " 4   LotArea        1459 non-null   int64\n",
      " 5   Street         1459 non-null   object\n",
      " 6   Alley          107 non-null    object\n",
      " 7   LotShape       1459 non-null   object\n",
      " 8   LandContour    1459 non-null   object\n",
      " 9   Utilities      1457 non-null   object\n",
      " 10  LotConfig      1459 non-null   object\n",
      " 11  LandSlope      1459 non-null   object\n",
      " 12  Neighborhood   1459 non-null   object\n",
      " 13  Condition1     1459 non-null   object\n",
      " 14  Condition2     1459 non-null   object\n",
      " 15  BldgType       1459 non-null   object\n",
      " 16  HouseStyle     1459 non-null   object\n",
      " 17  OverallQual    1459 non-null   int64\n",
      " 18  OverallCond    1459 non-null   int64\n",
      " 19  YearBuilt      1459 non-null   int64\n",
      " 20  YearRemodAdd   1459 non-null   int64\n",
      " 21  RoofStyle      1459 non-null   object\n",
      " 22  RoofMatl       1459 non-null   object\n",
      " 23  Exterior1st    1458 non-null   object\n",
      " 24  Exterior2nd    1458 non-null   object\n",
      " 25  MasVnrType     1443 non-null   object\n",
      " 26  MasVnrArea     1444 non-null   float64\n",
      " 27  ExterQual      1459 non-null   object\n",
      " 28  ExterCond      1459 non-null   object\n",
      " 29  Foundation     1459 non-null   object\n",
      " 30  BsmtQual       1415 non-null   object\n",
      " 31  BsmtCond       1414 non-null   object\n",
      " 32  BsmtExposure   1415 non-null   object\n",
      " 33  BsmtFinType1   1417 non-null   object\n",
      " 34  BsmtFinSF1     1458 non-null   float64\n",
      " 35  BsmtFinType2   1417 non-null   object\n",
      " 36  BsmtFinSF2     1458 non-null   float64\n",
      " 37  BsmtUnfSF      1458 non-null   float64\n",
      " 38  TotalBsmtSF    1458 non-null   float64\n",
      " 39  Heating        1459 non-null   object\n",
      " 40  HeatingQC      1459 non-null   object\n",
      " 41  CentralAir     1459 non-null   object\n",
      " 42  Electrical     1459 non-null   object\n",
      " 43  1stFlrSF       1459 non-null   int64\n",
      " 44  2ndFlrSF       1459 non-null   int64\n",
      " 45  LowQualFinSF   1459 non-null   int64\n",
      " 46  GrLivArea      1459 non-null   int64\n",
      " 47  BsmtFullBath   1457 non-null   float64\n",
      " 48  BsmtHalfBath   1457 non-null   float64\n",
      " 49  FullBath       1459 non-null   int64\n",
      " 50  HalfBath       1459 non-null   int64\n",
      " 51  BedroomAbvGr   1459 non-null   int64\n",
      " 52  KitchenAbvGr   1459 non-null   int64\n",
      " 53  KitchenQual    1458 non-null   object\n",
      " 54  TotRmsAbvGrd   1459 non-null   int64\n",
      " 55  Functional     1457 non-null   object\n",
      " 56  Fireplaces     1459 non-null   int64\n",
      " 57  FireplaceQu    729 non-null    object\n",
      " 58  GarageType     1383 non-null   object\n",
      " 59  GarageYrBlt    1381 non-null   float64\n",
      " 60  GarageFinish   1381 non-null   object\n",
      " 61  GarageCars     1458 non-null   float64\n",
      " 62  GarageArea     1458 non-null   float64\n",
      " 63  GarageQual     1381 non-null   object\n",
      " 64  GarageCond     1381 non-null   object\n",
      " 65  PavedDrive     1459 non-null   object\n",
      " 66  WoodDeckSF     1459 non-null   int64\n",
      " 67  OpenPorchSF    1459 non-null   int64\n",
      " 68  EnclosedPorch  1459 non-null   int64\n",
      " 69  3SsnPorch      1459 non-null   int64\n",
      " 70  ScreenPorch    1459 non-null   int64\n",
      " 71  PoolArea       1459 non-null   int64\n",
      " 72  PoolQC         3 non-null      object\n",
      " 73  Fence          290 non-null    object\n",
      " 74  MiscFeature    51 non-null     object\n",
      " 75  MiscVal        1459 non-null   int64\n",
      " 76  MoSold         1459 non-null   int64\n",
      " 77  YrSold         1459 non-null   int64\n",
      " 78  SaleType       1458 non-null   object\n",
      " 79  SaleCondition  1459 non-null   object\n",
      "dtypes: float64(11), int64(26), object(43)\n",
      "memory usage: 879.4+ KB\n"
     ]
    }
   ],
   "source": [
    "test_df.info()"
   ]
  },
  {
   "cell_type": "code",
   "execution_count": 11,
   "id": "e327e75d",
   "metadata": {
    "execution": {
     "iopub.execute_input": "2022-02-28T18:14:00.141289Z",
     "iopub.status.busy": "2022-02-28T18:14:00.140498Z",
     "iopub.status.idle": "2022-02-28T18:14:00.153608Z",
     "shell.execute_reply": "2022-02-28T18:14:00.154053Z",
     "shell.execute_reply.started": "2022-02-28T18:10:32.715120Z"
    },
    "papermill": {
     "duration": 0.05653,
     "end_time": "2022-02-28T18:14:00.154242",
     "exception": false,
     "start_time": "2022-02-28T18:14:00.097712",
     "status": "completed"
    },
    "tags": []
   },
   "outputs": [],
   "source": [
    "test_df['MasVnrArea'].fillna(test_df['MasVnrArea'].median(), inplace=True)\n",
    "test_df['BsmtFinType1'].fillna('Unknown', inplace=True)\n",
    "test_df['BsmtFinSF1'].fillna(test_df['BsmtFinSF1'].median(), inplace=True)\n",
    "test_df['BsmtFinType2'].fillna('Unknown', inplace=True)\n",
    "test_df['BsmtFinSF2'].fillna(test_df['BsmtFinSF2'].median(), inplace=True)\n",
    "test_df['TotalBsmtSF'].fillna(test_df['TotalBsmtSF'].median(), inplace=True)\n",
    "test_df['GarageArea'].fillna(test_df['GarageArea'].median(), inplace = True)"
   ]
  },
  {
   "cell_type": "code",
   "execution_count": 12,
   "id": "b4299b92",
   "metadata": {
    "execution": {
     "iopub.execute_input": "2022-02-28T18:14:00.234820Z",
     "iopub.status.busy": "2022-02-28T18:14:00.234017Z",
     "iopub.status.idle": "2022-02-28T18:14:00.270567Z",
     "shell.execute_reply": "2022-02-28T18:14:00.270159Z",
     "shell.execute_reply.started": "2022-02-28T18:10:33.825802Z"
    },
    "papermill": {
     "duration": 0.07855,
     "end_time": "2022-02-28T18:14:00.270676",
     "exception": false,
     "start_time": "2022-02-28T18:14:00.192126",
     "status": "completed"
    },
    "tags": []
   },
   "outputs": [
    {
     "name": "stdout",
     "output_type": "stream",
     "text": [
      "<class 'cudf.core.dataframe.DataFrame'>\n",
      "RangeIndex: 1459 entries, 0 to 1458\n",
      "Data columns (total 80 columns):\n",
      " #   Column         Non-Null Count  Dtype\n",
      "---  ------         --------------  -----\n",
      " 0   Id             1459 non-null   int64\n",
      " 1   MSSubClass     1459 non-null   int64\n",
      " 2   MSZoning       1455 non-null   object\n",
      " 3   LotFrontage    1232 non-null   float64\n",
      " 4   LotArea        1459 non-null   int64\n",
      " 5   Street         1459 non-null   object\n",
      " 6   Alley          107 non-null    object\n",
      " 7   LotShape       1459 non-null   object\n",
      " 8   LandContour    1459 non-null   object\n",
      " 9   Utilities      1457 non-null   object\n",
      " 10  LotConfig      1459 non-null   object\n",
      " 11  LandSlope      1459 non-null   object\n",
      " 12  Neighborhood   1459 non-null   object\n",
      " 13  Condition1     1459 non-null   object\n",
      " 14  Condition2     1459 non-null   object\n",
      " 15  BldgType       1459 non-null   object\n",
      " 16  HouseStyle     1459 non-null   object\n",
      " 17  OverallQual    1459 non-null   int64\n",
      " 18  OverallCond    1459 non-null   int64\n",
      " 19  YearBuilt      1459 non-null   int64\n",
      " 20  YearRemodAdd   1459 non-null   int64\n",
      " 21  RoofStyle      1459 non-null   object\n",
      " 22  RoofMatl       1459 non-null   object\n",
      " 23  Exterior1st    1458 non-null   object\n",
      " 24  Exterior2nd    1458 non-null   object\n",
      " 25  MasVnrType     1443 non-null   object\n",
      " 26  MasVnrArea     1459 non-null   float64\n",
      " 27  ExterQual      1459 non-null   object\n",
      " 28  ExterCond      1459 non-null   object\n",
      " 29  Foundation     1459 non-null   object\n",
      " 30  BsmtQual       1415 non-null   object\n",
      " 31  BsmtCond       1414 non-null   object\n",
      " 32  BsmtExposure   1415 non-null   object\n",
      " 33  BsmtFinType1   1459 non-null   object\n",
      " 34  BsmtFinSF1     1459 non-null   float64\n",
      " 35  BsmtFinType2   1459 non-null   object\n",
      " 36  BsmtFinSF2     1459 non-null   float64\n",
      " 37  BsmtUnfSF      1458 non-null   float64\n",
      " 38  TotalBsmtSF    1459 non-null   float64\n",
      " 39  Heating        1459 non-null   object\n",
      " 40  HeatingQC      1459 non-null   object\n",
      " 41  CentralAir     1459 non-null   object\n",
      " 42  Electrical     1459 non-null   object\n",
      " 43  1stFlrSF       1459 non-null   int64\n",
      " 44  2ndFlrSF       1459 non-null   int64\n",
      " 45  LowQualFinSF   1459 non-null   int64\n",
      " 46  GrLivArea      1459 non-null   int64\n",
      " 47  BsmtFullBath   1457 non-null   float64\n",
      " 48  BsmtHalfBath   1457 non-null   float64\n",
      " 49  FullBath       1459 non-null   int64\n",
      " 50  HalfBath       1459 non-null   int64\n",
      " 51  BedroomAbvGr   1459 non-null   int64\n",
      " 52  KitchenAbvGr   1459 non-null   int64\n",
      " 53  KitchenQual    1458 non-null   object\n",
      " 54  TotRmsAbvGrd   1459 non-null   int64\n",
      " 55  Functional     1457 non-null   object\n",
      " 56  Fireplaces     1459 non-null   int64\n",
      " 57  FireplaceQu    729 non-null    object\n",
      " 58  GarageType     1383 non-null   object\n",
      " 59  GarageYrBlt    1381 non-null   float64\n",
      " 60  GarageFinish   1381 non-null   object\n",
      " 61  GarageCars     1458 non-null   float64\n",
      " 62  GarageArea     1459 non-null   float64\n",
      " 63  GarageQual     1381 non-null   object\n",
      " 64  GarageCond     1381 non-null   object\n",
      " 65  PavedDrive     1459 non-null   object\n",
      " 66  WoodDeckSF     1459 non-null   int64\n",
      " 67  OpenPorchSF    1459 non-null   int64\n",
      " 68  EnclosedPorch  1459 non-null   int64\n",
      " 69  3SsnPorch      1459 non-null   int64\n",
      " 70  ScreenPorch    1459 non-null   int64\n",
      " 71  PoolArea       1459 non-null   int64\n",
      " 72  PoolQC         3 non-null      object\n",
      " 73  Fence          290 non-null    object\n",
      " 74  MiscFeature    51 non-null     object\n",
      " 75  MiscVal        1459 non-null   int64\n",
      " 76  MoSold         1459 non-null   int64\n",
      " 77  YrSold         1459 non-null   int64\n",
      " 78  SaleType       1458 non-null   object\n",
      " 79  SaleCondition  1459 non-null   object\n",
      "dtypes: float64(11), int64(26), object(43)\n",
      "memory usage: 878.4+ KB\n"
     ]
    }
   ],
   "source": [
    "test_df.info()"
   ]
  },
  {
   "cell_type": "code",
   "execution_count": 13,
   "id": "ada99be4",
   "metadata": {
    "execution": {
     "iopub.execute_input": "2022-02-28T18:14:00.354773Z",
     "iopub.status.busy": "2022-02-28T18:14:00.353851Z",
     "iopub.status.idle": "2022-02-28T18:14:00.362341Z",
     "shell.execute_reply": "2022-02-28T18:14:00.361908Z",
     "shell.execute_reply.started": "2022-02-28T18:10:34.381192Z"
    },
    "papermill": {
     "duration": 0.053784,
     "end_time": "2022-02-28T18:14:00.362441",
     "exception": false,
     "start_time": "2022-02-28T18:14:00.308657",
     "status": "completed"
    },
    "tags": []
   },
   "outputs": [],
   "source": [
    "x_data = train_df.iloc[:,:-1]"
   ]
  },
  {
   "cell_type": "markdown",
   "id": "c8596fb6",
   "metadata": {
    "papermill": {
     "duration": 0.037434,
     "end_time": "2022-02-28T18:14:00.437196",
     "exception": false,
     "start_time": "2022-02-28T18:14:00.399762",
     "status": "completed"
    },
    "tags": []
   },
   "source": [
    "## Selecting the required columns"
   ]
  },
  {
   "cell_type": "code",
   "execution_count": 14,
   "id": "f8a685f9",
   "metadata": {
    "execution": {
     "iopub.execute_input": "2022-02-28T18:14:00.518563Z",
     "iopub.status.busy": "2022-02-28T18:14:00.517035Z",
     "iopub.status.idle": "2022-02-28T18:14:00.519190Z",
     "shell.execute_reply": "2022-02-28T18:14:00.519584Z",
     "shell.execute_reply.started": "2022-02-28T18:10:35.513002Z"
    },
    "papermill": {
     "duration": 0.044926,
     "end_time": "2022-02-28T18:14:00.519696",
     "exception": false,
     "start_time": "2022-02-28T18:14:00.474770",
     "status": "completed"
    },
    "tags": []
   },
   "outputs": [],
   "source": [
    "x_data = x_data[['LotArea', 'OverallQual', 'OverallCond','BsmtFinType1','BsmtFinSF1','BsmtFinType2','BsmtFinSF2','1stFlrSF','2ndFlrSF', 'GrLivArea', 'MasVnrArea', 'YearBuilt', 'YearRemodAdd', 'TotalBsmtSF', 'FullBath','GarageArea']]"
   ]
  },
  {
   "cell_type": "markdown",
   "id": "396db01b",
   "metadata": {
    "execution": {
     "iopub.execute_input": "2022-02-28T14:09:07.445067Z",
     "iopub.status.busy": "2022-02-28T14:09:07.444544Z",
     "iopub.status.idle": "2022-02-28T14:09:07.448709Z",
     "shell.execute_reply": "2022-02-28T14:09:07.447893Z",
     "shell.execute_reply.started": "2022-02-28T14:09:07.445031Z"
    },
    "papermill": {
     "duration": 0.037364,
     "end_time": "2022-02-28T18:14:00.594494",
     "exception": false,
     "start_time": "2022-02-28T18:14:00.557130",
     "status": "completed"
    },
    "tags": []
   },
   "source": [
    "## Encoding the categorical features using one hot encoding"
   ]
  },
  {
   "cell_type": "code",
   "execution_count": 15,
   "id": "16bbf645",
   "metadata": {
    "execution": {
     "iopub.execute_input": "2022-02-28T18:14:00.674934Z",
     "iopub.status.busy": "2022-02-28T18:14:00.674284Z",
     "iopub.status.idle": "2022-02-28T18:14:00.726533Z",
     "shell.execute_reply": "2022-02-28T18:14:00.726132Z",
     "shell.execute_reply.started": "2022-02-28T18:10:35.881385Z"
    },
    "papermill": {
     "duration": 0.094669,
     "end_time": "2022-02-28T18:14:00.726648",
     "exception": false,
     "start_time": "2022-02-28T18:14:00.631979",
     "status": "completed"
    },
    "tags": []
   },
   "outputs": [],
   "source": [
    "x_data = pd.get_dummies(x_data)"
   ]
  },
  {
   "cell_type": "code",
   "execution_count": 16,
   "id": "0759928c",
   "metadata": {
    "execution": {
     "iopub.execute_input": "2022-02-28T18:14:00.806616Z",
     "iopub.status.busy": "2022-02-28T18:14:00.806048Z",
     "iopub.status.idle": "2022-02-28T18:14:00.808344Z",
     "shell.execute_reply": "2022-02-28T18:14:00.808782Z",
     "shell.execute_reply.started": "2022-02-28T18:10:36.817694Z"
    },
    "papermill": {
     "duration": 0.044661,
     "end_time": "2022-02-28T18:14:00.808926",
     "exception": false,
     "start_time": "2022-02-28T18:14:00.764265",
     "status": "completed"
    },
    "tags": []
   },
   "outputs": [],
   "source": [
    "y_data = train_df.iloc[:,-1]"
   ]
  },
  {
   "cell_type": "markdown",
   "id": "a13963d0",
   "metadata": {
    "papermill": {
     "duration": 0.038316,
     "end_time": "2022-02-28T18:14:00.885411",
     "exception": false,
     "start_time": "2022-02-28T18:14:00.847095",
     "status": "completed"
    },
    "tags": []
   },
   "source": [
    "## Model Training"
   ]
  },
  {
   "cell_type": "code",
   "execution_count": 17,
   "id": "3dff2833",
   "metadata": {
    "execution": {
     "iopub.execute_input": "2022-02-28T18:14:00.965075Z",
     "iopub.status.busy": "2022-02-28T18:14:00.964398Z",
     "iopub.status.idle": "2022-02-28T18:14:03.872332Z",
     "shell.execute_reply": "2022-02-28T18:14:03.872847Z",
     "shell.execute_reply.started": "2022-02-28T18:10:37.249125Z"
    },
    "papermill": {
     "duration": 2.949817,
     "end_time": "2022-02-28T18:14:03.873005",
     "exception": false,
     "start_time": "2022-02-28T18:14:00.923188",
     "status": "completed"
    },
    "tags": []
   },
   "outputs": [],
   "source": [
    "from cuml.model_selection import train_test_split\n",
    "x_train, x_val, y_train, y_val = train_test_split(x_data, y_data, train_size=0.8)"
   ]
  },
  {
   "cell_type": "code",
   "execution_count": 18,
   "id": "0d39d191",
   "metadata": {
    "execution": {
     "iopub.execute_input": "2022-02-28T18:14:03.952787Z",
     "iopub.status.busy": "2022-02-28T18:14:03.952033Z",
     "iopub.status.idle": "2022-02-28T18:14:03.957693Z",
     "shell.execute_reply": "2022-02-28T18:14:03.958101Z",
     "shell.execute_reply.started": "2022-02-28T18:10:40.188945Z"
    },
    "papermill": {
     "duration": 0.046592,
     "end_time": "2022-02-28T18:14:03.958235",
     "exception": false,
     "start_time": "2022-02-28T18:14:03.911643",
     "status": "completed"
    },
    "tags": []
   },
   "outputs": [],
   "source": [
    "from cuml.linear_model import LinearRegression\n",
    "lr_eig = LinearRegression(fit_intercept = True, normalize = False, algorithm = \"eig\")\n",
    "lr_svd = LinearRegression(fit_intercept = True, normalize = False, algorithm = \"svd\")\n",
    "lr_qr = LinearRegression(fit_intercept = True, normalize = False, algorithm = \"qr\")\n",
    "lr_svdqr = LinearRegression(fit_intercept = True, normalize = False, algorithm = \"svd-qr\")\n",
    "lr_svdjac = LinearRegression(fit_intercept = True, normalize = False, algorithm = \"svd-jacobi\")"
   ]
  },
  {
   "cell_type": "code",
   "execution_count": 19,
   "id": "3320cc7b",
   "metadata": {
    "execution": {
     "iopub.execute_input": "2022-02-28T18:14:04.039481Z",
     "iopub.status.busy": "2022-02-28T18:14:04.038736Z",
     "iopub.status.idle": "2022-02-28T18:14:06.267728Z",
     "shell.execute_reply": "2022-02-28T18:14:06.268143Z",
     "shell.execute_reply.started": "2022-02-28T18:10:40.197416Z"
    },
    "papermill": {
     "duration": 2.272583,
     "end_time": "2022-02-28T18:14:06.268299",
     "exception": false,
     "start_time": "2022-02-28T18:14:03.995716",
     "status": "completed"
    },
    "tags": []
   },
   "outputs": [
    {
     "data": {
      "text/plain": [
       "LinearRegression()"
      ]
     },
     "execution_count": 19,
     "metadata": {},
     "output_type": "execute_result"
    }
   ],
   "source": [
    "lr_eig.fit(x_train, y_train)\n",
    "lr_svd.fit(x_train, y_train)\n",
    "lr_qr.fit(x_train, y_train)\n",
    "lr_svdqr.fit(x_train, y_train)\n",
    "lr_svdjac.fit(x_train, y_train)"
   ]
  },
  {
   "cell_type": "code",
   "execution_count": 20,
   "id": "46ce0489",
   "metadata": {
    "execution": {
     "iopub.execute_input": "2022-02-28T18:14:06.350614Z",
     "iopub.status.busy": "2022-02-28T18:14:06.349723Z",
     "iopub.status.idle": "2022-02-28T18:14:06.395031Z",
     "shell.execute_reply": "2022-02-28T18:14:06.394578Z",
     "shell.execute_reply.started": "2022-02-28T18:10:42.398961Z"
    },
    "papermill": {
     "duration": 0.08833,
     "end_time": "2022-02-28T18:14:06.395139",
     "exception": false,
     "start_time": "2022-02-28T18:14:06.306809",
     "status": "completed"
    },
    "tags": []
   },
   "outputs": [],
   "source": [
    "preds_eig = lr_eig.predict(x_val)\n",
    "preds_svd = lr_svd.predict(x_val)\n",
    "preds_qr = lr_qr.predict(x_val)\n",
    "preds_svdqr = lr_svdqr.predict(x_val)\n",
    "preds_svdjac = lr_svdjac.predict(x_val)"
   ]
  },
  {
   "cell_type": "code",
   "execution_count": 21,
   "id": "da97ffe2",
   "metadata": {
    "execution": {
     "iopub.execute_input": "2022-02-28T18:14:06.476305Z",
     "iopub.status.busy": "2022-02-28T18:14:06.475511Z",
     "iopub.status.idle": "2022-02-28T18:14:06.479210Z",
     "shell.execute_reply": "2022-02-28T18:14:06.478752Z",
     "shell.execute_reply.started": "2022-02-28T18:10:42.452124Z"
    },
    "papermill": {
     "duration": 0.045684,
     "end_time": "2022-02-28T18:14:06.479312",
     "exception": false,
     "start_time": "2022-02-28T18:14:06.433628",
     "status": "completed"
    },
    "tags": []
   },
   "outputs": [],
   "source": [
    "preds_eig = preds_eig.astype(np.int64)\n",
    "preds_svd = preds_svd.astype(np.int64)\n",
    "preds_qr = preds_qr.astype(np.int64)\n",
    "preds_svdqr = preds_svdqr.astype(np.int64)\n",
    "preds_svdjac = preds_svdjac.astype(np.int64)"
   ]
  },
  {
   "cell_type": "code",
   "execution_count": 22,
   "id": "ac44bc05",
   "metadata": {
    "execution": {
     "iopub.execute_input": "2022-02-28T18:14:06.558782Z",
     "iopub.status.busy": "2022-02-28T18:14:06.558046Z",
     "iopub.status.idle": "2022-02-28T18:14:06.559878Z",
     "shell.execute_reply": "2022-02-28T18:14:06.560258Z",
     "shell.execute_reply.started": "2022-02-28T18:10:42.460286Z"
    },
    "papermill": {
     "duration": 0.043224,
     "end_time": "2022-02-28T18:14:06.560373",
     "exception": false,
     "start_time": "2022-02-28T18:14:06.517149",
     "status": "completed"
    },
    "tags": []
   },
   "outputs": [],
   "source": [
    "algos = ['eig','svd','qr','svdqr','svdjacob']"
   ]
  },
  {
   "cell_type": "markdown",
   "id": "1f3f3cfa",
   "metadata": {
    "execution": {
     "iopub.execute_input": "2022-02-28T14:10:04.733454Z",
     "iopub.status.busy": "2022-02-28T14:10:04.732933Z",
     "iopub.status.idle": "2022-02-28T14:10:04.738108Z",
     "shell.execute_reply": "2022-02-28T14:10:04.736917Z",
     "shell.execute_reply.started": "2022-02-28T14:10:04.733414Z"
    },
    "papermill": {
     "duration": 0.03763,
     "end_time": "2022-02-28T18:14:06.635978",
     "exception": false,
     "start_time": "2022-02-28T18:14:06.598348",
     "status": "completed"
    },
    "tags": []
   },
   "source": [
    "## Model Evaluation"
   ]
  },
  {
   "cell_type": "code",
   "execution_count": 23,
   "id": "9ae5cac3",
   "metadata": {
    "execution": {
     "iopub.execute_input": "2022-02-28T18:14:06.765427Z",
     "iopub.status.busy": "2022-02-28T18:14:06.764562Z",
     "iopub.status.idle": "2022-02-28T18:14:08.151240Z",
     "shell.execute_reply": "2022-02-28T18:14:08.151765Z",
     "shell.execute_reply.started": "2022-02-28T18:10:42.468238Z"
    },
    "papermill": {
     "duration": 1.470789,
     "end_time": "2022-02-28T18:14:08.151945",
     "exception": false,
     "start_time": "2022-02-28T18:14:06.681156",
     "status": "completed"
    },
    "tags": []
   },
   "outputs": [
    {
     "name": "stdout",
     "output_type": "stream",
     "text": [
      "[26131.90068493 26132.03082192 26175.20890411 26132.03082192\n",
      " 26132.03082192]\n"
     ]
    }
   ],
   "source": [
    "from cuml.metrics.regression import mean_absolute_error\n",
    "mae = numpy.empty(shape=[5])\n",
    "mae[0]=(mean_absolute_error(y_val, preds_eig))\n",
    "mae[1]=(mean_absolute_error(y_val, preds_svd))\n",
    "mae[2]=(mean_absolute_error(y_val, preds_qr))\n",
    "mae[3]=(mean_absolute_error(y_val, preds_svdqr))\n",
    "mae[4]=(mean_absolute_error(y_val, preds_svdjac))\n",
    "print(mae)"
   ]
  },
  {
   "cell_type": "code",
   "execution_count": 24,
   "id": "9d786e10",
   "metadata": {
    "execution": {
     "iopub.execute_input": "2022-02-28T18:14:08.236423Z",
     "iopub.status.busy": "2022-02-28T18:14:08.235608Z",
     "iopub.status.idle": "2022-02-28T18:14:08.407767Z",
     "shell.execute_reply": "2022-02-28T18:14:08.407380Z",
     "shell.execute_reply.started": "2022-02-28T18:10:43.733798Z"
    },
    "papermill": {
     "duration": 0.216187,
     "end_time": "2022-02-28T18:14:08.407906",
     "exception": false,
     "start_time": "2022-02-28T18:14:08.191719",
     "status": "completed"
    },
    "tags": []
   },
   "outputs": [
    {
     "data": {
      "image/png": "[encoded data removed]",
      "text/plain": [
       "<Figure size 432x288 with 1 Axes>"
      ]
     },
     "metadata": {
      "needs_background": "light"
     },
     "output_type": "display_data"
    }
   ],
   "source": [
    "import matplotlib.pyplot as plt\n",
    "plt.bar(numpy.array(algos),mae)\n",
    "plt.xlabel('Algorithms')\n",
    "plt.ylabel('Mean Absolute Error')\n",
    "plt.show()"
   ]
  },
  {
   "cell_type": "code",
   "execution_count": 25,
   "id": "ecaa8d6f",
   "metadata": {
    "execution": {
     "iopub.execute_input": "2022-02-28T18:14:08.493203Z",
     "iopub.status.busy": "2022-02-28T18:14:08.492456Z",
     "iopub.status.idle": "2022-02-28T18:14:08.735049Z",
     "shell.execute_reply": "2022-02-28T18:14:08.734566Z",
     "shell.execute_reply.started": "2022-02-28T18:10:43.917398Z"
    },
    "papermill": {
     "duration": 0.287366,
     "end_time": "2022-02-28T18:14:08.735174",
     "exception": false,
     "start_time": "2022-02-28T18:14:08.447808",
     "status": "completed"
    },
    "tags": []
   },
   "outputs": [
    {
     "name": "stdout",
     "output_type": "stream",
     "text": [
      "[3.74838187e+09 3.74839272e+09 3.74471477e+09 3.74839272e+09\n",
      " 3.74839272e+09]\n"
     ]
    }
   ],
   "source": [
    "from cuml.metrics.regression import mean_squared_error\n",
    "mse = numpy.empty(shape=[5])\n",
    "mse[0]=(mean_squared_error(y_val, preds_eig))\n",
    "mse[1]=(mean_squared_error(y_val, preds_svd))\n",
    "mse[2]=(mean_squared_error(y_val, preds_qr))\n",
    "mse[3]=(mean_squared_error(y_val, preds_svdqr))\n",
    "mse[4]=(mean_squared_error(y_val, preds_svdjac))\n",
    "print(mse)"
   ]
  },
  {
   "cell_type": "code",
   "execution_count": 26,
   "id": "046d3ae7",
   "metadata": {
    "execution": {
     "iopub.execute_input": "2022-02-28T18:14:08.970512Z",
     "iopub.status.busy": "2022-02-28T18:14:08.964731Z",
     "iopub.status.idle": "2022-02-28T18:14:09.118147Z",
     "shell.execute_reply": "2022-02-28T18:14:09.117615Z",
     "shell.execute_reply.started": "2022-02-28T18:10:44.174185Z"
    },
    "papermill": {
     "duration": 0.341586,
     "end_time": "2022-02-28T18:14:09.118304",
     "exception": false,
     "start_time": "2022-02-28T18:14:08.776718",
     "status": "completed"
    },
    "tags": []
   },
   "outputs": [
    {
     "data": {
      "image/png": "[encoded data removed]",
      "text/plain": [
       "<Figure size 432x288 with 1 Axes>"
      ]
     },
     "metadata": {
      "needs_background": "light"
     },
     "output_type": "display_data"
    }
   ],
   "source": [
    "import matplotlib.pyplot as plt\n",
    "plt.bar(numpy.array(algos),mse)\n",
    "plt.xlabel('Algorithms')\n",
    "plt.ylabel('Mean Squared Error')\n",
    "plt.show()"
   ]
  },
  {
   "cell_type": "code",
   "execution_count": 27,
   "id": "6a1fc09e",
   "metadata": {
    "execution": {
     "iopub.execute_input": "2022-02-28T18:14:09.206266Z",
     "iopub.status.busy": "2022-02-28T18:14:09.205458Z",
     "iopub.status.idle": "2022-02-28T18:14:09.209792Z",
     "shell.execute_reply": "2022-02-28T18:14:09.209372Z",
     "shell.execute_reply.started": "2022-02-28T18:10:44.474279Z"
    },
    "papermill": {
     "duration": 0.04976,
     "end_time": "2022-02-28T18:14:09.209920",
     "exception": false,
     "start_time": "2022-02-28T18:14:09.160160",
     "status": "completed"
    },
    "tags": []
   },
   "outputs": [],
   "source": [
    "y_val = y_val.astype(np.float64)\n",
    "preds_eig = preds_eig.astype(np.float64)\n",
    "preds_svd = preds_svd.astype(np.float64)\n",
    "preds_qr = preds_qr.astype(np.float64)\n",
    "preds_svdqr = preds_svdqr.astype(np.float64)\n",
    "preds_svdjac = preds_svdjac.astype(np.float64)"
   ]
  },
  {
   "cell_type": "code",
   "execution_count": 28,
   "id": "d32fd22c",
   "metadata": {
    "execution": {
     "iopub.execute_input": "2022-02-28T18:14:09.302728Z",
     "iopub.status.busy": "2022-02-28T18:14:09.302099Z",
     "iopub.status.idle": "2022-02-28T18:14:09.304899Z",
     "shell.execute_reply": "2022-02-28T18:14:09.305562Z",
     "shell.execute_reply.started": "2022-02-28T18:10:44.484368Z"
    },
    "papermill": {
     "duration": 0.055303,
     "end_time": "2022-02-28T18:14:09.305716",
     "exception": false,
     "start_time": "2022-02-28T18:14:09.250413",
     "status": "completed"
    },
    "tags": []
   },
   "outputs": [
    {
     "name": "stdout",
     "output_type": "stream",
     "text": [
      "[0.40511977 0.40511805 0.40570175 0.40511805 0.40511805]\n"
     ]
    }
   ],
   "source": [
    "from cuml.metrics.regression import r2_score\n",
    "r2 = numpy.empty(shape=[5])\n",
    "r2[0]=(r2_score(y_val, preds_eig))\n",
    "r2[1]=(r2_score(y_val, preds_svd))\n",
    "r2[2]=(r2_score(y_val, preds_qr))\n",
    "r2[3]=(r2_score(y_val, preds_svdqr))\n",
    "r2[4]=(r2_score(y_val, preds_svdjac))\n",
    "print(r2)"
   ]
  },
  {
   "cell_type": "code",
   "execution_count": 29,
   "id": "1c7234d2",
   "metadata": {
    "execution": {
     "iopub.execute_input": "2022-02-28T18:14:09.404677Z",
     "iopub.status.busy": "2022-02-28T18:14:09.398965Z",
     "iopub.status.idle": "2022-02-28T18:14:09.558396Z",
     "shell.execute_reply": "2022-02-28T18:14:09.557864Z",
     "shell.execute_reply.started": "2022-02-28T18:10:44.501992Z"
    },
    "papermill": {
     "duration": 0.210788,
     "end_time": "2022-02-28T18:14:09.558514",
     "exception": false,
     "start_time": "2022-02-28T18:14:09.347726",
     "status": "completed"
    },
    "tags": []
   },
   "outputs": [
    {
     "data": {
      "image/png": "[encoded data removed]",
      "text/plain": [
       "<Figure size 432x288 with 1 Axes>"
      ]
     },
     "metadata": {
      "needs_background": "light"
     },
     "output_type": "display_data"
    }
   ],
   "source": [
    "import matplotlib.pyplot as plt\n",
    "plt.bar(numpy.array(algos),r2)\n",
    "plt.xlabel('Algorithms')\n",
    "plt.ylabel('r2 Score')\n",
    "plt.show()"
   ]
  },
  {
   "cell_type": "markdown",
   "id": "c99caf55",
   "metadata": {
    "papermill": {
     "duration": 0.041585,
     "end_time": "2022-02-28T18:14:09.641864",
     "exception": false,
     "start_time": "2022-02-28T18:14:09.600279",
     "status": "completed"
    },
    "tags": []
   },
   "source": [
    "## Submitting the Results to the Competition"
   ]
  },
  {
   "cell_type": "code",
   "execution_count": 30,
   "id": "abced81b",
   "metadata": {
    "execution": {
     "iopub.execute_input": "2022-02-28T18:14:09.731951Z",
     "iopub.status.busy": "2022-02-28T18:14:09.731176Z",
     "iopub.status.idle": "2022-02-28T18:14:09.733531Z",
     "shell.execute_reply": "2022-02-28T18:14:09.733109Z",
     "shell.execute_reply.started": "2022-02-28T18:10:45.261708Z"
    },
    "papermill": {
     "duration": 0.050131,
     "end_time": "2022-02-28T18:14:09.733630",
     "exception": false,
     "start_time": "2022-02-28T18:14:09.683499",
     "status": "completed"
    },
    "tags": []
   },
   "outputs": [],
   "source": [
    "test_df = test_df[['LotArea', 'OverallQual', 'OverallCond','BsmtFinType1','BsmtFinSF1','BsmtFinType2','BsmtFinSF2','1stFlrSF','2ndFlrSF', 'GrLivArea', 'MasVnrArea', 'YearBuilt', 'YearRemodAdd', 'TotalBsmtSF', '1stFlrSF', 'FullBath','GarageArea']]"
   ]
  },
  {
   "cell_type": "code",
   "execution_count": 31,
   "id": "6f2d42e7",
   "metadata": {
    "execution": {
     "iopub.execute_input": "2022-02-28T18:14:09.822825Z",
     "iopub.status.busy": "2022-02-28T18:14:09.822081Z",
     "iopub.status.idle": "2022-02-28T18:14:09.861289Z",
     "shell.execute_reply": "2022-02-28T18:14:09.860889Z",
     "shell.execute_reply.started": "2022-02-28T18:10:46.206513Z"
    },
    "papermill": {
     "duration": 0.08583,
     "end_time": "2022-02-28T18:14:09.861393",
     "exception": false,
     "start_time": "2022-02-28T18:14:09.775563",
     "status": "completed"
    },
    "tags": []
   },
   "outputs": [],
   "source": [
    "test_df = pd.get_dummies(test_df)"
   ]
  },
  {
   "cell_type": "code",
   "execution_count": 32,
   "id": "8e93c003",
   "metadata": {
    "execution": {
     "iopub.execute_input": "2022-02-28T18:14:09.948959Z",
     "iopub.status.busy": "2022-02-28T18:14:09.948430Z",
     "iopub.status.idle": "2022-02-28T18:14:09.959914Z",
     "shell.execute_reply": "2022-02-28T18:14:09.960299Z",
     "shell.execute_reply.started": "2022-02-28T18:10:46.409997Z"
    },
    "papermill": {
     "duration": 0.057167,
     "end_time": "2022-02-28T18:14:09.960417",
     "exception": false,
     "start_time": "2022-02-28T18:14:09.903250",
     "status": "completed"
    },
    "tags": []
   },
   "outputs": [],
   "source": [
    "submission = pd.read_csv('/kaggle/input/house-prices-advanced-regression-techniques/sample_submission.csv')"
   ]
  },
  {
   "cell_type": "code",
   "execution_count": 33,
   "id": "7cbfe135",
   "metadata": {
    "execution": {
     "iopub.execute_input": "2022-02-28T18:14:10.049480Z",
     "iopub.status.busy": "2022-02-28T18:14:10.048667Z",
     "iopub.status.idle": "2022-02-28T18:14:10.062505Z",
     "shell.execute_reply": "2022-02-28T18:14:10.062893Z",
     "shell.execute_reply.started": "2022-02-28T18:10:47.019066Z"
    },
    "papermill": {
     "duration": 0.060966,
     "end_time": "2022-02-28T18:14:10.063037",
     "exception": false,
     "start_time": "2022-02-28T18:14:10.002071",
     "status": "completed"
    },
    "tags": []
   },
   "outputs": [
    {
     "data": {
      "text/plain": [
       "LinearRegression()"
      ]
     },
     "execution_count": 33,
     "metadata": {},
     "output_type": "execute_result"
    }
   ],
   "source": [
    "lr_final = LinearRegression(fit_intercept = True, normalize = False, algorithm = \"eig\")\n",
    "lr_final.fit(x_data, y_data)"
   ]
  },
  {
   "cell_type": "code",
   "execution_count": 34,
   "id": "dd0f8cc7",
   "metadata": {
    "execution": {
     "iopub.execute_input": "2022-02-28T18:14:10.152759Z",
     "iopub.status.busy": "2022-02-28T18:14:10.151953Z",
     "iopub.status.idle": "2022-02-28T18:14:10.163354Z",
     "shell.execute_reply": "2022-02-28T18:14:10.163707Z",
     "shell.execute_reply.started": "2022-02-28T18:10:47.179726Z"
    },
    "papermill": {
     "duration": 0.05755,
     "end_time": "2022-02-28T18:14:10.163826",
     "exception": false,
     "start_time": "2022-02-28T18:14:10.106276",
     "status": "completed"
    },
    "tags": []
   },
   "outputs": [],
   "source": [
    "submission['SalePrice'] = lr_final.predict(test_df)"
   ]
  },
  {
   "cell_type": "code",
   "execution_count": 35,
   "id": "7f94a5c5",
   "metadata": {
    "execution": {
     "iopub.execute_input": "2022-02-28T18:14:10.253627Z",
     "iopub.status.busy": "2022-02-28T18:14:10.253076Z",
     "iopub.status.idle": "2022-02-28T18:14:10.261141Z",
     "shell.execute_reply": "2022-02-28T18:14:10.260467Z",
     "shell.execute_reply.started": "2022-02-28T18:10:47.989122Z"
    },
    "papermill": {
     "duration": 0.054998,
     "end_time": "2022-02-28T18:14:10.261260",
     "exception": false,
     "start_time": "2022-02-28T18:14:10.206262",
     "status": "completed"
    },
    "tags": []
   },
   "outputs": [],
   "source": [
    "submission.to_csv(\"submission.csv\", index=False)"
   ]
  },
  {
   "cell_type": "code",
   "execution_count": null,
   "id": "7b226205",
   "metadata": {
    "papermill": {
     "duration": 0.041617,
     "end_time": "2022-02-28T18:14:10.344775",
     "exception": false,
     "start_time": "2022-02-28T18:14:10.303158",
     "status": "completed"
    },
    "tags": []
   },
   "outputs": [],
   "source": []
  },
  {
   "cell_type": "code",
   "execution_count": null,
   "id": "6a3522eb",
   "metadata": {
    "papermill": {
     "duration": 0.041709,
     "end_time": "2022-02-28T18:14:10.428115",
     "exception": false,
     "start_time": "2022-02-28T18:14:10.386406",
     "status": "completed"
    },
    "tags": []
   },
   "outputs": [],
   "source": []
  }
 ],
 "metadata": {
  "kernelspec": {
   "display_name": "Python 3",
   "language": "python",
   "name": "python3"
  },
  "language_info": {
   "codemirror_mode": {
    "name": "ipython",
    "version": 3
   },
   "file_extension": ".py",
   "mimetype": "text/x-python",
   "name": "python",
   "nbconvert_exporter": "python",
   "pygments_lexer": "ipython3",
   "version": "3.7.12"
  },
  "papermill": {
   "default_parameters": {},
   "duration": 26.96032,
   "end_time": "2022-02-28T18:14:11.680049",
   "environment_variables": {},
   "exception": null,
   "input_path": "__notebook__.ipynb",
   "output_path": "__notebook__.ipynb",
   "parameters": {},
   "start_time": "2022-02-28T18:13:44.719729",
   "version": "2.3.3"
  }
 },
 "nbformat": 4,
 "nbformat_minor": 5
}
